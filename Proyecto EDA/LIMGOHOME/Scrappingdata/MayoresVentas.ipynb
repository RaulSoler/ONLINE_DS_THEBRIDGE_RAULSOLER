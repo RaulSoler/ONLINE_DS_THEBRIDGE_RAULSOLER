{
 "cells": [
  {
   "cell_type": "code",
   "execution_count": 1,
   "metadata": {},
   "outputs": [],
   "source": [
    "import lxml\n",
    "import pandas as pd\n",
    "import requests\n",
    "import re\n",
    "from bs4 import BeautifulSoup"
   ]
  },
  {
   "cell_type": "code",
   "execution_count": 2,
   "metadata": {},
   "outputs": [],
   "source": [
    "from fake_useragent import UserAgent                \n",
    "ua = UserAgent()\n",
    "headers = {'User-Agent': ua.random}\n"
   ]
  },
  {
   "cell_type": "code",
   "execution_count": 3,
   "metadata": {},
   "outputs": [],
   "source": [
    "url = \"https://www.transfermarkt.es/fc-valencia/rekordabgaenge/verein/1049\""
   ]
  },
  {
   "cell_type": "code",
   "execution_count": 5,
   "metadata": {},
   "outputs": [],
   "source": [
    "ventas = requests.get(url, headers=headers)\n"
   ]
  },
  {
   "cell_type": "code",
   "execution_count": 6,
   "metadata": {},
   "outputs": [],
   "source": [
    "ventas = BeautifulSoup(ventas.text, \"html.parser\")"
   ]
  },
  {
   "cell_type": "code",
   "execution_count": 53,
   "metadata": {},
   "outputs": [],
   "source": [
    "mayores_ventas ={\n",
    "    \"Nombre\": [],\n",
    "    \"Temporada\": [],\n",
    "    \"Precio\":[]\n",
    "}"
   ]
  },
  {
   "cell_type": "code",
   "execution_count": 54,
   "metadata": {},
   "outputs": [],
   "source": [
    "nombre_venta =  ventas.find_all(\"td\" , class_=\"hauptlink\")\n",
    "longitud=(len(nombre_venta)) \n",
    "\n",
    "nombres_ventas = [nombre_venta[i].text.strip() for i in range(0, longitud, 3)]\n",
    "\n",
    "mayores_ventas[\"Nombre\"] = nombres_ventas\n",
    "\n",
    "   "
   ]
  },
  {
   "cell_type": "code",
   "execution_count": 63,
   "metadata": {},
   "outputs": [],
   "source": [
    "temporada_venta = ventas.find_all(\"td\", class_=\"zentriert\")\n",
    "longitud_tempo = (len(temporada_venta))\n",
    "temporadas_ventas = [temporada_venta[i].text.strip() for i in range(3, longitud_tempo, 4)]\n",
    "\n",
    "mayores_ventas[\"Temporada\"] = temporadas_ventas"
   ]
  },
  {
   "cell_type": "code",
   "execution_count": 69,
   "metadata": {},
   "outputs": [],
   "source": [
    "precio_venta = ventas.find_all(\"td\", class_=\"rechts hauptlink\")\n",
    "longitud_precio = (len(precio_venta))\n",
    "precios_ventas = [precio_venta[i].text.strip() for i in range(0, longitud_precio, 1)]\n",
    "\n",
    "mayores_ventas[\"Precio\"] = precios_ventas"
   ]
  },
  {
   "cell_type": "code",
   "execution_count": 71,
   "metadata": {},
   "outputs": [],
   "source": [
    "mayores_bajas = pd.DataFrame(mayores_ventas)"
   ]
  },
  {
   "cell_type": "code",
   "execution_count": 74,
   "metadata": {},
   "outputs": [
    {
     "name": "stderr",
     "output_type": "stream",
     "text": [
      "<>:1: SyntaxWarning: invalid escape sequence '\\d'\n",
      "<>:1: SyntaxWarning: invalid escape sequence '\\d'\n",
      "C:\\Users\\raul_\\AppData\\Local\\Temp\\ipykernel_24024\\2781566932.py:1: SyntaxWarning: invalid escape sequence '\\d'\n",
      "  mayores_bajas.Precio = mayores_bajas.Precio.str.replace(\"[^\\d,.]\", \"\", regex=True).str.replace(\",\", \".\").str.extract(r'(\\d+.\\d+|\\d+)').astype(float)\n"
     ]
    }
   ],
   "source": [
    "mayores_bajas.Precio = mayores_bajas.Precio.str.replace(\"[^\\d,.]\", \"\", regex=True).str.replace(\",\", \".\").str.extract(r'(\\d+.\\d+|\\d+)').astype(float)"
   ]
  },
  {
   "cell_type": "code",
   "execution_count": 78,
   "metadata": {},
   "outputs": [
    {
     "name": "stderr",
     "output_type": "stream",
     "text": [
      "<>:1: SyntaxWarning: invalid escape sequence '\\D'\n",
      "<>:1: SyntaxWarning: invalid escape sequence '\\D'\n",
      "C:\\Users\\raul_\\AppData\\Local\\Temp\\ipykernel_24024\\781206991.py:1: SyntaxWarning: invalid escape sequence '\\D'\n",
      "  ruta=\"D:\\DATASCIENCE\\Repositorios\\ONLINE_DS_THEBRIDGE_RAULSOLER\\Proyecto EDA\\LIMGOHOME\\DatasLimpios\\mayoresventas.csv\"\n"
     ]
    }
   ],
   "source": [
    "ruta=\"D:\\DATASCIENCE\\Repositorios\\ONLINE_DS_THEBRIDGE_RAULSOLER\\Proyecto EDA\\LIMGOHOME\\DatasLimpios\\mayoresventas.csv\"\n",
    "\n",
    "mayores_bajas.to_csv(ruta, index=\"False\")"
   ]
  }
 ],
 "metadata": {
  "kernelspec": {
   "display_name": "Python 3",
   "language": "python",
   "name": "python3"
  },
  "language_info": {
   "codemirror_mode": {
    "name": "ipython",
    "version": 3
   },
   "file_extension": ".py",
   "mimetype": "text/x-python",
   "name": "python",
   "nbconvert_exporter": "python",
   "pygments_lexer": "ipython3",
   "version": "3.12.2"
  }
 },
 "nbformat": 4,
 "nbformat_minor": 2
}
