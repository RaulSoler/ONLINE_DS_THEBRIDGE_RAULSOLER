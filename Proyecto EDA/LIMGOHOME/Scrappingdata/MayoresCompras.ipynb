{
 "cells": [
  {
   "cell_type": "code",
   "execution_count": 1,
   "metadata": {},
   "outputs": [],
   "source": [
    "import lxml\n",
    "import pandas as pd\n",
    "import requests\n",
    "import re\n",
    "from bs4 import BeautifulSoup"
   ]
  },
  {
   "cell_type": "code",
   "execution_count": 2,
   "metadata": {},
   "outputs": [],
   "source": [
    "from fake_useragent import UserAgent                \n",
    "ua = UserAgent()\n",
    "headers = {'User-Agent': ua.random}\n"
   ]
  },
  {
   "cell_type": "code",
   "execution_count": 3,
   "metadata": {},
   "outputs": [],
   "source": [
    "url = \"https://www.transfermarkt.es/fc-valencia/wertvollstezugaenge/verein/1049\""
   ]
  },
  {
   "cell_type": "code",
   "execution_count": 4,
   "metadata": {},
   "outputs": [],
   "source": [
    "compras = requests.get(url, headers=headers)\n"
   ]
  },
  {
   "cell_type": "code",
   "execution_count": 5,
   "metadata": {},
   "outputs": [],
   "source": [
    "compras = BeautifulSoup(compras.text, \"html.parser\")"
   ]
  },
  {
   "cell_type": "code",
   "execution_count": 6,
   "metadata": {},
   "outputs": [],
   "source": [
    "mayores_compras ={\n",
    "    \"Nombre\": [],\n",
    "    \"Temporada\": [],\n",
    "    \"Precio\":[]\n",
    "}"
   ]
  },
  {
   "cell_type": "code",
   "execution_count": 7,
   "metadata": {},
   "outputs": [],
   "source": [
    "nombre_compra =  compras.find_all(\"td\" , class_=\"hauptlink\")\n",
    "longitud=(len(nombre_compra)) \n",
    "\n",
    "nombres_compras = [nombre_compra[i].text.strip() for i in range(0, longitud, 3)]\n",
    "\n",
    "mayores_compras[\"Nombre\"] = nombres_compras\n",
    "\n",
    "   "
   ]
  },
  {
   "cell_type": "code",
   "execution_count": 9,
   "metadata": {},
   "outputs": [],
   "source": [
    "temporada_compra = compras.find_all(\"td\", class_=\"zentriert\")\n",
    "longitud_tempo = (len(temporada_compra))\n",
    "temporadas_compras = [temporada_compra[i].text.strip() for i in range(3, longitud_tempo, 4)]\n",
    "\n",
    "mayores_compras[\"Temporada\"] = temporadas_compras"
   ]
  },
  {
   "cell_type": "code",
   "execution_count": 11,
   "metadata": {},
   "outputs": [],
   "source": [
    "precio_compra = compras.find_all(\"td\", class_=\"rechts hauptlink\")\n",
    "longitud_precio = (len(precio_compra))\n",
    "precios_compras = [precio_compra[i].text.strip() for i in range(0, longitud_precio, 1)]\n",
    "\n",
    "mayores_compras[\"Precio\"] = precios_compras"
   ]
  },
  {
   "cell_type": "code",
   "execution_count": 12,
   "metadata": {},
   "outputs": [],
   "source": [
    "mayores_compras = pd.DataFrame(mayores_compras)"
   ]
  },
  {
   "cell_type": "code",
   "execution_count": 13,
   "metadata": {},
   "outputs": [
    {
     "name": "stderr",
     "output_type": "stream",
     "text": [
      "<>:1: SyntaxWarning: invalid escape sequence '\\d'\n",
      "<>:1: SyntaxWarning: invalid escape sequence '\\d'\n",
      "C:\\Users\\raul_\\AppData\\Local\\Temp\\ipykernel_10456\\421299076.py:1: SyntaxWarning: invalid escape sequence '\\d'\n",
      "  mayores_compras.Precio = mayores_compras.Precio.str.replace(\"[^\\d,.]\", \"\", regex=True).str.replace(\",\", \".\").str.extract(r'(\\d+.\\d+|\\d+)').astype(float)\n"
     ]
    }
   ],
   "source": [
    "mayores_compras.Precio = mayores_compras.Precio.str.replace(\"[^\\d,.]\", \"\", regex=True).str.replace(\",\", \".\").str.extract(r'(\\d+.\\d+|\\d+)').astype(float)"
   ]
  },
  {
   "cell_type": "code",
   "execution_count": 14,
   "metadata": {},
   "outputs": [
    {
     "name": "stderr",
     "output_type": "stream",
     "text": [
      "<>:1: SyntaxWarning: invalid escape sequence '\\D'\n",
      "<>:1: SyntaxWarning: invalid escape sequence '\\D'\n",
      "C:\\Users\\raul_\\AppData\\Local\\Temp\\ipykernel_10456\\3415669635.py:1: SyntaxWarning: invalid escape sequence '\\D'\n",
      "  ruta=\"D:\\DATASCIENCE\\Repositorios\\ONLINE_DS_THEBRIDGE_RAULSOLER\\Proyecto EDA\\LIMGOHOME\\DatasLimpios\\mayorescompras.csv\"\n"
     ]
    }
   ],
   "source": [
    "ruta=\"D:\\DATASCIENCE\\Repositorios\\ONLINE_DS_THEBRIDGE_RAULSOLER\\Proyecto EDA\\LIMGOHOME\\DatasLimpios\\mayorescompras.csv\"\n",
    "\n",
    "mayores_compras.to_csv(ruta, index=\"False\")"
   ]
  }
 ],
 "metadata": {
  "kernelspec": {
   "display_name": "Python 3",
   "language": "python",
   "name": "python3"
  },
  "language_info": {
   "codemirror_mode": {
    "name": "ipython",
    "version": 3
   },
   "file_extension": ".py",
   "mimetype": "text/x-python",
   "name": "python",
   "nbconvert_exporter": "python",
   "pygments_lexer": "ipython3",
   "version": "3.12.2"
  }
 },
 "nbformat": 4,
 "nbformat_minor": 2
}
