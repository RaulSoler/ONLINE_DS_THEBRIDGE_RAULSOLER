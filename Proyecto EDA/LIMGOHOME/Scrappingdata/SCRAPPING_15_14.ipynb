{
 "cells": [
  {
   "cell_type": "code",
   "execution_count": 6,
   "metadata": {},
   "outputs": [],
   "source": [
    "import lxml\n",
    "import pandas as pd\n",
    "import requests\n",
    "import re\n",
    "from bs4 import BeautifulSoup"
   ]
  },
  {
   "cell_type": "code",
   "execution_count": 7,
   "metadata": {},
   "outputs": [],
   "source": [
    "from fake_useragent import UserAgent                \n",
    "ua = UserAgent()\n",
    "headers = {'User-Agent': ua.random}\n"
   ]
  },
  {
   "cell_type": "code",
   "execution_count": 8,
   "metadata": {},
   "outputs": [],
   "source": [
    "url = \"https://www.transfermarkt.es/valencia-cf/kader/verein/1049/plus/0/galerie/0?saison_id=2014\""
   ]
  },
  {
   "cell_type": "code",
   "execution_count": 9,
   "metadata": {},
   "outputs": [],
   "source": [
    "plantilla15 = requests.get(url, headers=headers)\n"
   ]
  },
  {
   "cell_type": "code",
   "execution_count": 10,
   "metadata": {},
   "outputs": [],
   "source": [
    "plantilla15 = BeautifulSoup(plantilla15.text, \"html.parser\")"
   ]
  },
  {
   "cell_type": "code",
   "execution_count": 11,
   "metadata": {},
   "outputs": [],
   "source": [
    "temp15={\"Nombre\":[],\n",
    "        \"Posicion\":[],\n",
    "        \"Edad\":[],\n",
    "        \"Nacionalidad\":[],\n",
    "        \"Valor\":[]\n",
    "        }"
   ]
  },
  {
   "cell_type": "markdown",
   "metadata": {},
   "source": [
    "SACAR EL VALOR DEL JUGADOR EN EL EQUIPO"
   ]
  },
  {
   "cell_type": "code",
   "execution_count": 12,
   "metadata": {},
   "outputs": [],
   "source": [
    "for valor in plantilla15.find_all(\"td\", class_ = \"rechts hauptlink\"):\n",
    "    temp15[\"Valor\"].append(valor.text)"
   ]
  },
  {
   "cell_type": "markdown",
   "metadata": {},
   "source": [
    "SACAR NOMBRE JUGADOR"
   ]
  },
  {
   "cell_type": "code",
   "execution_count": 13,
   "metadata": {},
   "outputs": [],
   "source": [
    "nombres = plantilla15.find_all('img', class_='bilderrahmen-fixed lazy lazy')\n",
    "for nombre in nombres:\n",
    "    #jugador24 = nombre[\"title\"]\n",
    "    temp15[\"Nombre\"].append(nombre[\"title\"])\n"
   ]
  },
  {
   "cell_type": "markdown",
   "metadata": {},
   "source": [
    "SACAR EDAD JUGADOR\n",
    "\n",
    "Veo que desde la posicion 1 y cada 4 saco el TD donde esta la edad ya que ese campo no tiene ningún atributo o clase que pueda diferenciar del resto.\n",
    "Saco la longitud total de el td para saber su longitud y recorrer cada campo de la edad."
   ]
  },
  {
   "cell_type": "code",
   "execution_count": 14,
   "metadata": {},
   "outputs": [],
   "source": [
    "edad = plantilla15.find_all(\"td\",class_ = \"zentriert\")\n",
    "\n",
    "longitud=(len(edad)-4) #Saco el total y en el range le pongo 97 porque es el último valor de la cadena que queremos sacar.\n",
    "\n",
    "valores_edad = [edad[i].text.strip() for i in range(1, longitud, 4)]\n",
    "temp15[\"Edad\"]=valores_edad"
   ]
  },
  {
   "cell_type": "markdown",
   "metadata": {},
   "source": [
    "SACAR LA POSICION\n",
    "Como en el anterior no tenemos una etiqueta ni nada que nos indique el campo de la posicion tenemos que sacarlo\n",
    "a traves de la posicion de la etiqueta."
   ]
  },
  {
   "cell_type": "code",
   "execution_count": 15,
   "metadata": {},
   "outputs": [],
   "source": [
    "posiciones = plantilla15.find_all(\"table\",class_ = \"inline-table\")\n",
    "\n",
    "longitud_pos = (len(posiciones))\n",
    "for i in range(longitud_pos):\n",
    "    #print(posiciones[i].find_all(\"td\")[2].text.strip())\n",
    "    temp15[\"Posicion\"].append(posiciones[i].find_all(\"td\")[2].text.strip())"
   ]
  },
  {
   "cell_type": "markdown",
   "metadata": {},
   "source": [
    "SACAR NACIONALIDAD\n",
    "\n",
    "saco el td con la clase, veo que los que tienen doble nacionalidad ocupan td diferentes por eso le decimos que coja todos los \"img\" y la primera posicion de cada td."
   ]
  },
  {
   "cell_type": "code",
   "execution_count": 16,
   "metadata": {},
   "outputs": [],
   "source": [
    "nacionalidades = plantilla15.find_all(\"td\", class_='zentriert')\n",
    "for nacion in nacionalidades:\n",
    "    img = nacion.find_all(\"img\", class_=\"flaggenrahmen\")\n",
    "    if img:\n",
    "        #print(img[0].get(\"title\"))\n",
    "        temp15[\"Nacionalidad\"].append(img[0].get(\"title\"))"
   ]
  },
  {
   "cell_type": "code",
   "execution_count": 17,
   "metadata": {},
   "outputs": [],
   "source": [
    "temporada15 =  pd.DataFrame(temp15)"
   ]
  },
  {
   "cell_type": "code",
   "execution_count": 18,
   "metadata": {},
   "outputs": [
    {
     "data": {
      "text/html": [
       "<div>\n",
       "<style scoped>\n",
       "    .dataframe tbody tr th:only-of-type {\n",
       "        vertical-align: middle;\n",
       "    }\n",
       "\n",
       "    .dataframe tbody tr th {\n",
       "        vertical-align: top;\n",
       "    }\n",
       "\n",
       "    .dataframe thead th {\n",
       "        text-align: right;\n",
       "    }\n",
       "</style>\n",
       "<table border=\"1\" class=\"dataframe\">\n",
       "  <thead>\n",
       "    <tr style=\"text-align: right;\">\n",
       "      <th></th>\n",
       "      <th>Nombre</th>\n",
       "      <th>Posicion</th>\n",
       "      <th>Edad</th>\n",
       "      <th>Nacionalidad</th>\n",
       "      <th>Valor</th>\n",
       "    </tr>\n",
       "  </thead>\n",
       "  <tbody>\n",
       "    <tr>\n",
       "      <th>0</th>\n",
       "      <td>Diego Alves</td>\n",
       "      <td>Portero</td>\n",
       "      <td>30</td>\n",
       "      <td>Brasil</td>\n",
       "      <td>8,00 mill. €</td>\n",
       "    </tr>\n",
       "    <tr>\n",
       "      <th>1</th>\n",
       "      <td>Yoel Rodríguez</td>\n",
       "      <td>Portero</td>\n",
       "      <td>26</td>\n",
       "      <td>España</td>\n",
       "      <td>2,50 mill. €</td>\n",
       "    </tr>\n",
       "    <tr>\n",
       "      <th>2</th>\n",
       "      <td>Jaume Doménech</td>\n",
       "      <td>Portero</td>\n",
       "      <td>24</td>\n",
       "      <td>España</td>\n",
       "      <td>-</td>\n",
       "    </tr>\n",
       "    <tr>\n",
       "      <th>3</th>\n",
       "      <td>Nicolás Otamendi</td>\n",
       "      <td>Defensa central</td>\n",
       "      <td>27</td>\n",
       "      <td>Argentina</td>\n",
       "      <td>18,00 mill. €</td>\n",
       "    </tr>\n",
       "    <tr>\n",
       "      <th>4</th>\n",
       "      <td>Shkodran Mustafi</td>\n",
       "      <td>Defensa central</td>\n",
       "      <td>23</td>\n",
       "      <td>Alemania</td>\n",
       "      <td>15,00 mill. €</td>\n",
       "    </tr>\n",
       "    <tr>\n",
       "      <th>5</th>\n",
       "      <td>Lucas Orbán</td>\n",
       "      <td>Defensa central</td>\n",
       "      <td>26</td>\n",
       "      <td>Argentina</td>\n",
       "      <td>5,00 mill. €</td>\n",
       "    </tr>\n",
       "    <tr>\n",
       "      <th>6</th>\n",
       "      <td>Rúben Vezo</td>\n",
       "      <td>Defensa central</td>\n",
       "      <td>21</td>\n",
       "      <td>Portugal</td>\n",
       "      <td>2,50 mill. €</td>\n",
       "    </tr>\n",
       "    <tr>\n",
       "      <th>7</th>\n",
       "      <td>José Gayà</td>\n",
       "      <td>Lateral izquierdo</td>\n",
       "      <td>20</td>\n",
       "      <td>España</td>\n",
       "      <td>15,00 mill. €</td>\n",
       "    </tr>\n",
       "    <tr>\n",
       "      <th>8</th>\n",
       "      <td>Salva Ruiz</td>\n",
       "      <td>Lateral izquierdo</td>\n",
       "      <td>20</td>\n",
       "      <td>España</td>\n",
       "      <td>-</td>\n",
       "    </tr>\n",
       "    <tr>\n",
       "      <th>9</th>\n",
       "      <td>Antonio Barragán</td>\n",
       "      <td>Lateral derecho</td>\n",
       "      <td>28</td>\n",
       "      <td>España</td>\n",
       "      <td>3,00 mill. €</td>\n",
       "    </tr>\n",
       "  </tbody>\n",
       "</table>\n",
       "</div>"
      ],
      "text/plain": [
       "             Nombre           Posicion Edad Nacionalidad          Valor\n",
       "0       Diego Alves            Portero   30       Brasil   8,00 mill. €\n",
       "1    Yoel Rodríguez            Portero   26       España   2,50 mill. €\n",
       "2    Jaume Doménech            Portero   24       España              -\n",
       "3  Nicolás Otamendi    Defensa central   27    Argentina  18,00 mill. €\n",
       "4  Shkodran Mustafi    Defensa central   23     Alemania  15,00 mill. €\n",
       "5       Lucas Orbán    Defensa central   26    Argentina   5,00 mill. €\n",
       "6        Rúben Vezo    Defensa central   21     Portugal   2,50 mill. €\n",
       "7         José Gayà  Lateral izquierdo   20       España  15,00 mill. €\n",
       "8        Salva Ruiz  Lateral izquierdo   20       España              -\n",
       "9  Antonio Barragán    Lateral derecho   28       España   3,00 mill. €"
      ]
     },
     "execution_count": 18,
     "metadata": {},
     "output_type": "execute_result"
    }
   ],
   "source": [
    "temporada15.head(10)"
   ]
  },
  {
   "cell_type": "code",
   "execution_count": 19,
   "metadata": {},
   "outputs": [],
   "source": [
    "temporada15.Edad = temporada15.Edad.astype(int)"
   ]
  },
  {
   "cell_type": "code",
   "execution_count": 20,
   "metadata": {},
   "outputs": [
    {
     "name": "stdout",
     "output_type": "stream",
     "text": [
      "<class 'pandas.core.frame.DataFrame'>\n",
      "RangeIndex: 26 entries, 0 to 25\n",
      "Data columns (total 5 columns):\n",
      " #   Column        Non-Null Count  Dtype \n",
      "---  ------        --------------  ----- \n",
      " 0   Nombre        26 non-null     object\n",
      " 1   Posicion      26 non-null     object\n",
      " 2   Edad          26 non-null     int32 \n",
      " 3   Nacionalidad  26 non-null     object\n",
      " 4   Valor         26 non-null     object\n",
      "dtypes: int32(1), object(4)\n",
      "memory usage: 1.0+ KB\n"
     ]
    }
   ],
   "source": [
    "temporada15.info()"
   ]
  },
  {
   "cell_type": "code",
   "execution_count": 21,
   "metadata": {},
   "outputs": [
    {
     "name": "stderr",
     "output_type": "stream",
     "text": [
      "<>:1: SyntaxWarning: invalid escape sequence '\\d'\n",
      "<>:1: SyntaxWarning: invalid escape sequence '\\d'\n",
      "C:\\Users\\raul_\\AppData\\Local\\Temp\\ipykernel_7668\\3851265430.py:1: SyntaxWarning: invalid escape sequence '\\d'\n",
      "  temporada15.Valor = temporada15.Valor.str.replace(\"[^\\d,.]\", \"\", regex=True).str.replace(\",\", \".\").str.extract(r'(\\d+.\\d+|\\d+)').astype(float)\n"
     ]
    }
   ],
   "source": [
    "temporada15.Valor = temporada15.Valor.str.replace(\"[^\\d,.]\", \"\", regex=True).str.replace(\",\", \".\").str.extract(r'(\\d+.\\d+|\\d+)').astype(float)"
   ]
  },
  {
   "cell_type": "markdown",
   "metadata": {},
   "source": [
    "Pasamos los valores a millones, sabemos que los valores altos que habian no corresponden al valor en millones ya que sabemos que \n",
    "la plantilla del valencia no tiene jugadores tan valiosos."
   ]
  },
  {
   "cell_type": "code",
   "execution_count": 22,
   "metadata": {},
   "outputs": [],
   "source": [
    "temporada15.loc[temporada15.Valor > 100,\"Valor\"] = temporada15.loc[temporada15.Valor > 100,\"Valor\"]/1000\n"
   ]
  },
  {
   "cell_type": "code",
   "execution_count": 23,
   "metadata": {},
   "outputs": [],
   "source": [
    "temporada15[\"Valor millones\"] = temporada15.Valor "
   ]
  },
  {
   "cell_type": "code",
   "execution_count": 24,
   "metadata": {},
   "outputs": [],
   "source": [
    "temporada15 = temporada15.drop(columns=[\"Valor\"])"
   ]
  },
  {
   "cell_type": "code",
   "execution_count": 25,
   "metadata": {},
   "outputs": [
    {
     "data": {
      "text/html": [
       "<div>\n",
       "<style scoped>\n",
       "    .dataframe tbody tr th:only-of-type {\n",
       "        vertical-align: middle;\n",
       "    }\n",
       "\n",
       "    .dataframe tbody tr th {\n",
       "        vertical-align: top;\n",
       "    }\n",
       "\n",
       "    .dataframe thead th {\n",
       "        text-align: right;\n",
       "    }\n",
       "</style>\n",
       "<table border=\"1\" class=\"dataframe\">\n",
       "  <thead>\n",
       "    <tr style=\"text-align: right;\">\n",
       "      <th></th>\n",
       "      <th>Nombre</th>\n",
       "      <th>Posicion</th>\n",
       "      <th>Edad</th>\n",
       "      <th>Nacionalidad</th>\n",
       "      <th>Valor millones</th>\n",
       "    </tr>\n",
       "  </thead>\n",
       "  <tbody>\n",
       "    <tr>\n",
       "      <th>0</th>\n",
       "      <td>Diego Alves</td>\n",
       "      <td>Portero</td>\n",
       "      <td>30</td>\n",
       "      <td>Brasil</td>\n",
       "      <td>8.0</td>\n",
       "    </tr>\n",
       "    <tr>\n",
       "      <th>1</th>\n",
       "      <td>Yoel Rodríguez</td>\n",
       "      <td>Portero</td>\n",
       "      <td>26</td>\n",
       "      <td>España</td>\n",
       "      <td>2.5</td>\n",
       "    </tr>\n",
       "    <tr>\n",
       "      <th>2</th>\n",
       "      <td>Jaume Doménech</td>\n",
       "      <td>Portero</td>\n",
       "      <td>24</td>\n",
       "      <td>España</td>\n",
       "      <td>NaN</td>\n",
       "    </tr>\n",
       "    <tr>\n",
       "      <th>3</th>\n",
       "      <td>Nicolás Otamendi</td>\n",
       "      <td>Defensa central</td>\n",
       "      <td>27</td>\n",
       "      <td>Argentina</td>\n",
       "      <td>18.0</td>\n",
       "    </tr>\n",
       "    <tr>\n",
       "      <th>4</th>\n",
       "      <td>Shkodran Mustafi</td>\n",
       "      <td>Defensa central</td>\n",
       "      <td>23</td>\n",
       "      <td>Alemania</td>\n",
       "      <td>15.0</td>\n",
       "    </tr>\n",
       "    <tr>\n",
       "      <th>5</th>\n",
       "      <td>Lucas Orbán</td>\n",
       "      <td>Defensa central</td>\n",
       "      <td>26</td>\n",
       "      <td>Argentina</td>\n",
       "      <td>5.0</td>\n",
       "    </tr>\n",
       "    <tr>\n",
       "      <th>6</th>\n",
       "      <td>Rúben Vezo</td>\n",
       "      <td>Defensa central</td>\n",
       "      <td>21</td>\n",
       "      <td>Portugal</td>\n",
       "      <td>2.5</td>\n",
       "    </tr>\n",
       "    <tr>\n",
       "      <th>7</th>\n",
       "      <td>José Gayà</td>\n",
       "      <td>Lateral izquierdo</td>\n",
       "      <td>20</td>\n",
       "      <td>España</td>\n",
       "      <td>15.0</td>\n",
       "    </tr>\n",
       "    <tr>\n",
       "      <th>8</th>\n",
       "      <td>Salva Ruiz</td>\n",
       "      <td>Lateral izquierdo</td>\n",
       "      <td>20</td>\n",
       "      <td>España</td>\n",
       "      <td>NaN</td>\n",
       "    </tr>\n",
       "    <tr>\n",
       "      <th>9</th>\n",
       "      <td>Antonio Barragán</td>\n",
       "      <td>Lateral derecho</td>\n",
       "      <td>28</td>\n",
       "      <td>España</td>\n",
       "      <td>3.0</td>\n",
       "    </tr>\n",
       "    <tr>\n",
       "      <th>10</th>\n",
       "      <td>João Cancelo</td>\n",
       "      <td>Lateral derecho</td>\n",
       "      <td>21</td>\n",
       "      <td>Portugal</td>\n",
       "      <td>2.0</td>\n",
       "    </tr>\n",
       "    <tr>\n",
       "      <th>11</th>\n",
       "      <td>Enzo Pérez</td>\n",
       "      <td>Pivote</td>\n",
       "      <td>29</td>\n",
       "      <td>Argentina</td>\n",
       "      <td>25.0</td>\n",
       "    </tr>\n",
       "    <tr>\n",
       "      <th>12</th>\n",
       "      <td>Sofiane Feghouli</td>\n",
       "      <td>Pivote</td>\n",
       "      <td>25</td>\n",
       "      <td>Argelia</td>\n",
       "      <td>15.0</td>\n",
       "    </tr>\n",
       "    <tr>\n",
       "      <th>13</th>\n",
       "      <td>Javi Fuego</td>\n",
       "      <td>Pivote</td>\n",
       "      <td>31</td>\n",
       "      <td>España</td>\n",
       "      <td>6.0</td>\n",
       "    </tr>\n",
       "    <tr>\n",
       "      <th>14</th>\n",
       "      <td>Filipe Augusto</td>\n",
       "      <td>Pivote</td>\n",
       "      <td>21</td>\n",
       "      <td>Brasil</td>\n",
       "      <td>2.0</td>\n",
       "    </tr>\n",
       "    <tr>\n",
       "      <th>15</th>\n",
       "      <td>Bruno Zuculini</td>\n",
       "      <td>Pivote</td>\n",
       "      <td>22</td>\n",
       "      <td>Argentina</td>\n",
       "      <td>2.0</td>\n",
       "    </tr>\n",
       "    <tr>\n",
       "      <th>16</th>\n",
       "      <td>Dani Parejo</td>\n",
       "      <td>Mediocentro</td>\n",
       "      <td>26</td>\n",
       "      <td>España</td>\n",
       "      <td>15.0</td>\n",
       "    </tr>\n",
       "    <tr>\n",
       "      <th>17</th>\n",
       "      <td>André Gomes</td>\n",
       "      <td>Mediocentro</td>\n",
       "      <td>21</td>\n",
       "      <td>Portugal</td>\n",
       "      <td>15.0</td>\n",
       "    </tr>\n",
       "    <tr>\n",
       "      <th>18</th>\n",
       "      <td>Rodrigo de Paul</td>\n",
       "      <td>Mediocentro</td>\n",
       "      <td>21</td>\n",
       "      <td>Argentina</td>\n",
       "      <td>4.0</td>\n",
       "    </tr>\n",
       "    <tr>\n",
       "      <th>19</th>\n",
       "      <td>Tropi</td>\n",
       "      <td>Mediocentro</td>\n",
       "      <td>20</td>\n",
       "      <td>España</td>\n",
       "      <td>NaN</td>\n",
       "    </tr>\n",
       "    <tr>\n",
       "      <th>20</th>\n",
       "      <td>Carles Gil</td>\n",
       "      <td>Mediocentro ofensivo</td>\n",
       "      <td>22</td>\n",
       "      <td>España</td>\n",
       "      <td>5.0</td>\n",
       "    </tr>\n",
       "    <tr>\n",
       "      <th>21</th>\n",
       "      <td>Pablo Piatti</td>\n",
       "      <td>Extremo izquierdo</td>\n",
       "      <td>26</td>\n",
       "      <td>Argentina</td>\n",
       "      <td>6.0</td>\n",
       "    </tr>\n",
       "    <tr>\n",
       "      <th>22</th>\n",
       "      <td>Rober Ibáñez</td>\n",
       "      <td>Extremo derecho</td>\n",
       "      <td>22</td>\n",
       "      <td>España</td>\n",
       "      <td>2.0</td>\n",
       "    </tr>\n",
       "    <tr>\n",
       "      <th>23</th>\n",
       "      <td>Álvaro Negredo</td>\n",
       "      <td>Delantero centro</td>\n",
       "      <td>29</td>\n",
       "      <td>España</td>\n",
       "      <td>22.0</td>\n",
       "    </tr>\n",
       "    <tr>\n",
       "      <th>24</th>\n",
       "      <td>Paco Alcácer</td>\n",
       "      <td>Delantero centro</td>\n",
       "      <td>21</td>\n",
       "      <td>España</td>\n",
       "      <td>20.0</td>\n",
       "    </tr>\n",
       "    <tr>\n",
       "      <th>25</th>\n",
       "      <td>Rodrigo</td>\n",
       "      <td>Delantero centro</td>\n",
       "      <td>24</td>\n",
       "      <td>España</td>\n",
       "      <td>20.0</td>\n",
       "    </tr>\n",
       "  </tbody>\n",
       "</table>\n",
       "</div>"
      ],
      "text/plain": [
       "              Nombre              Posicion  Edad Nacionalidad  Valor millones\n",
       "0        Diego Alves               Portero    30       Brasil             8.0\n",
       "1     Yoel Rodríguez               Portero    26       España             2.5\n",
       "2     Jaume Doménech               Portero    24       España             NaN\n",
       "3   Nicolás Otamendi       Defensa central    27    Argentina            18.0\n",
       "4   Shkodran Mustafi       Defensa central    23     Alemania            15.0\n",
       "5        Lucas Orbán       Defensa central    26    Argentina             5.0\n",
       "6         Rúben Vezo       Defensa central    21     Portugal             2.5\n",
       "7          José Gayà     Lateral izquierdo    20       España            15.0\n",
       "8         Salva Ruiz     Lateral izquierdo    20       España             NaN\n",
       "9   Antonio Barragán       Lateral derecho    28       España             3.0\n",
       "10      João Cancelo       Lateral derecho    21     Portugal             2.0\n",
       "11        Enzo Pérez                Pivote    29    Argentina            25.0\n",
       "12  Sofiane Feghouli                Pivote    25      Argelia            15.0\n",
       "13        Javi Fuego                Pivote    31       España             6.0\n",
       "14    Filipe Augusto                Pivote    21       Brasil             2.0\n",
       "15    Bruno Zuculini                Pivote    22    Argentina             2.0\n",
       "16       Dani Parejo           Mediocentro    26       España            15.0\n",
       "17       André Gomes           Mediocentro    21     Portugal            15.0\n",
       "18   Rodrigo de Paul           Mediocentro    21    Argentina             4.0\n",
       "19             Tropi           Mediocentro    20       España             NaN\n",
       "20        Carles Gil  Mediocentro ofensivo    22       España             5.0\n",
       "21      Pablo Piatti     Extremo izquierdo    26    Argentina             6.0\n",
       "22      Rober Ibáñez       Extremo derecho    22       España             2.0\n",
       "23    Álvaro Negredo      Delantero centro    29       España            22.0\n",
       "24      Paco Alcácer      Delantero centro    21       España            20.0\n",
       "25           Rodrigo      Delantero centro    24       España            20.0"
      ]
     },
     "execution_count": 25,
     "metadata": {},
     "output_type": "execute_result"
    }
   ],
   "source": [
    "temporada15"
   ]
  },
  {
   "cell_type": "code",
   "execution_count": 26,
   "metadata": {},
   "outputs": [
    {
     "name": "stderr",
     "output_type": "stream",
     "text": [
      "C:\\Users\\raul_\\AppData\\Local\\Temp\\ipykernel_7668\\2550227724.py:3: FutureWarning: A value is trying to be set on a copy of a DataFrame or Series through chained assignment using an inplace method.\n",
      "The behavior will change in pandas 3.0. This inplace method will never work because the intermediate object on which we are setting values always behaves as a copy.\n",
      "\n",
      "For example, when doing 'df[col].method(value, inplace=True)', try using 'df.method({col: value}, inplace=True)' or df[col] = df[col].method(value) instead, to perform the operation inplace on the original object.\n",
      "\n",
      "\n",
      "  temporada15[\"Valor millones\"].fillna(min_valor, inplace=True)\n"
     ]
    }
   ],
   "source": [
    "#temporada22[\"Valor millones\"].fillna(temporada22[\"Valor millones\"].min, inplace=True)\n",
    "min_valor = temporada15[\"Valor millones\"].min()\n",
    "temporada15[\"Valor millones\"].fillna(min_valor, inplace=True)"
   ]
  },
  {
   "cell_type": "code",
   "execution_count": 27,
   "metadata": {},
   "outputs": [
    {
     "name": "stderr",
     "output_type": "stream",
     "text": [
      "<>:1: SyntaxWarning: invalid escape sequence '\\D'\n",
      "<>:1: SyntaxWarning: invalid escape sequence '\\D'\n",
      "C:\\Users\\raul_\\AppData\\Local\\Temp\\ipykernel_7668\\1874498574.py:1: SyntaxWarning: invalid escape sequence '\\D'\n",
      "  ruta=\"D:\\DATASCIENCE\\Repositorios\\ONLINE_DS_THEBRIDGE_RAULSOLER\\Proyecto EDA\\LIMGOHOME\\DatasLimpios\\Temporada15_14.csv\"\n"
     ]
    }
   ],
   "source": [
    "ruta=\"D:\\DATASCIENCE\\Repositorios\\ONLINE_DS_THEBRIDGE_RAULSOLER\\Proyecto EDA\\LIMGOHOME\\DatasLimpios\\Temporada15_14.csv\"\n",
    "\n",
    "temporada15.to_csv(ruta, index=\"False\")"
   ]
  }
 ],
 "metadata": {
  "kernelspec": {
   "display_name": "Python 3",
   "language": "python",
   "name": "python3"
  },
  "language_info": {
   "codemirror_mode": {
    "name": "ipython",
    "version": 3
   },
   "file_extension": ".py",
   "mimetype": "text/x-python",
   "name": "python",
   "nbconvert_exporter": "python",
   "pygments_lexer": "ipython3",
   "version": "3.12.2"
  }
 },
 "nbformat": 4,
 "nbformat_minor": 2
}
