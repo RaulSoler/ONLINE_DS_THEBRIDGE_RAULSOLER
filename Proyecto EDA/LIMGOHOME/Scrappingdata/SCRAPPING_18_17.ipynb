{
 "cells": [
  {
   "cell_type": "code",
   "execution_count": 1,
   "metadata": {},
   "outputs": [],
   "source": [
    "import lxml\n",
    "import pandas as pd\n",
    "import requests\n",
    "import re\n",
    "from bs4 import BeautifulSoup"
   ]
  },
  {
   "cell_type": "code",
   "execution_count": 2,
   "metadata": {},
   "outputs": [],
   "source": [
    "from fake_useragent import UserAgent                \n",
    "ua = UserAgent()\n",
    "headers = {'User-Agent': ua.random}\n"
   ]
  },
  {
   "cell_type": "code",
   "execution_count": 3,
   "metadata": {},
   "outputs": [],
   "source": [
    "url = \"https://www.transfermarkt.es/valencia-cf/kader/verein/1049/plus/0/galerie/0?saison_id=2017\""
   ]
  },
  {
   "cell_type": "code",
   "execution_count": 4,
   "metadata": {},
   "outputs": [],
   "source": [
    "plantilla18 = requests.get(url, headers=headers)\n"
   ]
  },
  {
   "cell_type": "code",
   "execution_count": 5,
   "metadata": {},
   "outputs": [],
   "source": [
    "plantilla18 = BeautifulSoup(plantilla18.text, \"html.parser\")"
   ]
  },
  {
   "cell_type": "code",
   "execution_count": 6,
   "metadata": {},
   "outputs": [],
   "source": [
    "temp18={\"Nombre\":[],\n",
    "        \"Posicion\":[],\n",
    "        \"Edad\":[],\n",
    "        \"Nacionalidad\":[],\n",
    "        \"Valor\":[]\n",
    "        }"
   ]
  },
  {
   "cell_type": "markdown",
   "metadata": {},
   "source": [
    "SACAR EL VALOR DEL JUGADOR EN EL EQUIPO"
   ]
  },
  {
   "cell_type": "code",
   "execution_count": 7,
   "metadata": {},
   "outputs": [],
   "source": [
    "for valor in plantilla18.find_all(\"td\", class_ = \"rechts hauptlink\"):\n",
    "    temp18[\"Valor\"].append(valor.text)"
   ]
  },
  {
   "cell_type": "markdown",
   "metadata": {},
   "source": [
    "SACAR NOMBRE JUGADOR"
   ]
  },
  {
   "cell_type": "code",
   "execution_count": 8,
   "metadata": {},
   "outputs": [],
   "source": [
    "nombres = plantilla18.find_all('img', class_='bilderrahmen-fixed lazy lazy')\n",
    "for nombre in nombres:\n",
    "    #jugador24 = nombre[\"title\"]\n",
    "    temp18[\"Nombre\"].append(nombre[\"title\"])\n"
   ]
  },
  {
   "cell_type": "markdown",
   "metadata": {},
   "source": [
    "SACAR EDAD JUGADOR\n",
    "\n",
    "Veo que desde la posicion 1 y cada 4 saco el TD donde esta la edad ya que ese campo no tiene ningún atributo o clase que pueda diferenciar del resto.\n",
    "Saco la longitud total de el td para saber su longitud y recorrer cada campo de la edad."
   ]
  },
  {
   "cell_type": "code",
   "execution_count": 9,
   "metadata": {},
   "outputs": [],
   "source": [
    "edad = plantilla18.find_all(\"td\",class_ = \"zentriert\")\n",
    "\n",
    "longitud=(len(edad)-4) #Saco el total y en el range le pongo 97 porque es el último valor de la cadena que queremos sacar.\n",
    "\n",
    "valores_edad = [edad[i].text.strip() for i in range(1, longitud, 4)]\n",
    "temp18[\"Edad\"]=valores_edad"
   ]
  },
  {
   "cell_type": "markdown",
   "metadata": {},
   "source": [
    "SACAR LA POSICION\n",
    "Como en el anterior no tenemos una etiqueta ni nada que nos indique el campo de la posicion tenemos que sacarlo\n",
    "a traves de la posicion de la etiqueta."
   ]
  },
  {
   "cell_type": "code",
   "execution_count": 10,
   "metadata": {},
   "outputs": [],
   "source": [
    "posiciones = plantilla18.find_all(\"table\",class_ = \"inline-table\")\n",
    "\n",
    "longitud_pos = (len(posiciones))\n",
    "for i in range(longitud_pos):\n",
    "    #print(posiciones[i].find_all(\"td\")[2].text.strip())\n",
    "    temp18[\"Posicion\"].append(posiciones[i].find_all(\"td\")[2].text.strip())"
   ]
  },
  {
   "cell_type": "markdown",
   "metadata": {},
   "source": [
    "SACAR NACIONALIDAD\n",
    "\n",
    "saco el td con la clase, veo que los que tienen doble nacionalidad ocupan td diferentes por eso le decimos que coja todos los \"img\" y la primera posicion de cada td."
   ]
  },
  {
   "cell_type": "code",
   "execution_count": 11,
   "metadata": {},
   "outputs": [],
   "source": [
    "nacionalidades = plantilla18.find_all(\"td\", class_='zentriert')\n",
    "for nacion in nacionalidades:\n",
    "    img = nacion.find_all(\"img\", class_=\"flaggenrahmen\")\n",
    "    if img:\n",
    "        #print(img[0].get(\"title\"))\n",
    "        temp18[\"Nacionalidad\"].append(img[0].get(\"title\"))"
   ]
  },
  {
   "cell_type": "code",
   "execution_count": 12,
   "metadata": {},
   "outputs": [],
   "source": [
    "temporada18 =  pd.DataFrame(temp18)"
   ]
  },
  {
   "cell_type": "code",
   "execution_count": 13,
   "metadata": {},
   "outputs": [
    {
     "data": {
      "text/html": [
       "<div>\n",
       "<style scoped>\n",
       "    .dataframe tbody tr th:only-of-type {\n",
       "        vertical-align: middle;\n",
       "    }\n",
       "\n",
       "    .dataframe tbody tr th {\n",
       "        vertical-align: top;\n",
       "    }\n",
       "\n",
       "    .dataframe thead th {\n",
       "        text-align: right;\n",
       "    }\n",
       "</style>\n",
       "<table border=\"1\" class=\"dataframe\">\n",
       "  <thead>\n",
       "    <tr style=\"text-align: right;\">\n",
       "      <th></th>\n",
       "      <th>Nombre</th>\n",
       "      <th>Posicion</th>\n",
       "      <th>Edad</th>\n",
       "      <th>Nacionalidad</th>\n",
       "      <th>Valor</th>\n",
       "    </tr>\n",
       "  </thead>\n",
       "  <tbody>\n",
       "    <tr>\n",
       "      <th>0</th>\n",
       "      <td>Neto</td>\n",
       "      <td>Portero</td>\n",
       "      <td>28</td>\n",
       "      <td>Brasil</td>\n",
       "      <td>15,00 mill. €</td>\n",
       "    </tr>\n",
       "    <tr>\n",
       "      <th>1</th>\n",
       "      <td>Jaume Doménech</td>\n",
       "      <td>Portero</td>\n",
       "      <td>27</td>\n",
       "      <td>España</td>\n",
       "      <td>2,50 mill. €</td>\n",
       "    </tr>\n",
       "    <tr>\n",
       "      <th>2</th>\n",
       "      <td>Cristian Rivero</td>\n",
       "      <td>Portero</td>\n",
       "      <td>20</td>\n",
       "      <td>España</td>\n",
       "      <td>250 mil €</td>\n",
       "    </tr>\n",
       "    <tr>\n",
       "      <th>3</th>\n",
       "      <td>Gabriel Paulista</td>\n",
       "      <td>Defensa central</td>\n",
       "      <td>27</td>\n",
       "      <td>Brasil</td>\n",
       "      <td>20,00 mill. €</td>\n",
       "    </tr>\n",
       "    <tr>\n",
       "      <th>4</th>\n",
       "      <td>Jeison Murillo</td>\n",
       "      <td>Defensa central</td>\n",
       "      <td>26</td>\n",
       "      <td>Colombia</td>\n",
       "      <td>15,00 mill. €</td>\n",
       "    </tr>\n",
       "    <tr>\n",
       "      <th>5</th>\n",
       "      <td>Ezequiel Garay</td>\n",
       "      <td>Defensa central</td>\n",
       "      <td>31</td>\n",
       "      <td>Argentina</td>\n",
       "      <td>12,00 mill. €</td>\n",
       "    </tr>\n",
       "    <tr>\n",
       "      <th>6</th>\n",
       "      <td>Rúben Vezo</td>\n",
       "      <td>Defensa central</td>\n",
       "      <td>24</td>\n",
       "      <td>Portugal</td>\n",
       "      <td>6,00 mill. €</td>\n",
       "    </tr>\n",
       "    <tr>\n",
       "      <th>7</th>\n",
       "      <td>Javi Jiménez</td>\n",
       "      <td>Defensa central</td>\n",
       "      <td>21</td>\n",
       "      <td>España</td>\n",
       "      <td>300 mil €</td>\n",
       "    </tr>\n",
       "    <tr>\n",
       "      <th>8</th>\n",
       "      <td>José Gayà</td>\n",
       "      <td>Lateral izquierdo</td>\n",
       "      <td>23</td>\n",
       "      <td>España</td>\n",
       "      <td>35,00 mill. €</td>\n",
       "    </tr>\n",
       "    <tr>\n",
       "      <th>9</th>\n",
       "      <td>Toni Lato</td>\n",
       "      <td>Lateral izquierdo</td>\n",
       "      <td>20</td>\n",
       "      <td>España</td>\n",
       "      <td>8,00 mill. €</td>\n",
       "    </tr>\n",
       "  </tbody>\n",
       "</table>\n",
       "</div>"
      ],
      "text/plain": [
       "             Nombre           Posicion Edad Nacionalidad          Valor\n",
       "0              Neto            Portero   28       Brasil  15,00 mill. €\n",
       "1    Jaume Doménech            Portero   27       España   2,50 mill. €\n",
       "2   Cristian Rivero            Portero   20       España      250 mil €\n",
       "3  Gabriel Paulista    Defensa central   27       Brasil  20,00 mill. €\n",
       "4    Jeison Murillo    Defensa central   26     Colombia  15,00 mill. €\n",
       "5    Ezequiel Garay    Defensa central   31    Argentina  12,00 mill. €\n",
       "6        Rúben Vezo    Defensa central   24     Portugal   6,00 mill. €\n",
       "7      Javi Jiménez    Defensa central   21       España      300 mil €\n",
       "8         José Gayà  Lateral izquierdo   23       España  35,00 mill. €\n",
       "9         Toni Lato  Lateral izquierdo   20       España   8,00 mill. €"
      ]
     },
     "execution_count": 13,
     "metadata": {},
     "output_type": "execute_result"
    }
   ],
   "source": [
    "temporada18.head(10)"
   ]
  },
  {
   "cell_type": "code",
   "execution_count": 14,
   "metadata": {},
   "outputs": [],
   "source": [
    "temporada18.Edad = temporada18.Edad.astype(int)"
   ]
  },
  {
   "cell_type": "code",
   "execution_count": 15,
   "metadata": {},
   "outputs": [
    {
     "name": "stdout",
     "output_type": "stream",
     "text": [
      "<class 'pandas.core.frame.DataFrame'>\n",
      "RangeIndex: 30 entries, 0 to 29\n",
      "Data columns (total 5 columns):\n",
      " #   Column        Non-Null Count  Dtype \n",
      "---  ------        --------------  ----- \n",
      " 0   Nombre        30 non-null     object\n",
      " 1   Posicion      30 non-null     object\n",
      " 2   Edad          30 non-null     int32 \n",
      " 3   Nacionalidad  30 non-null     object\n",
      " 4   Valor         30 non-null     object\n",
      "dtypes: int32(1), object(4)\n",
      "memory usage: 1.2+ KB\n"
     ]
    }
   ],
   "source": [
    "temporada18.info()"
   ]
  },
  {
   "cell_type": "code",
   "execution_count": 16,
   "metadata": {},
   "outputs": [
    {
     "name": "stderr",
     "output_type": "stream",
     "text": [
      "<>:1: SyntaxWarning: invalid escape sequence '\\d'\n",
      "<>:1: SyntaxWarning: invalid escape sequence '\\d'\n",
      "C:\\Users\\raul_\\AppData\\Local\\Temp\\ipykernel_5836\\3659295284.py:1: SyntaxWarning: invalid escape sequence '\\d'\n",
      "  temporada18.Valor = temporada18.Valor.str.replace(\"[^\\d,.]\", \"\", regex=True).str.replace(\",\", \".\").str.extract(r'(\\d+.\\d+|\\d+)').astype(float)\n"
     ]
    }
   ],
   "source": [
    "temporada18.Valor = temporada18.Valor.str.replace(\"[^\\d,.]\", \"\", regex=True).str.replace(\",\", \".\").str.extract(r'(\\d+.\\d+|\\d+)').astype(float)"
   ]
  },
  {
   "cell_type": "markdown",
   "metadata": {},
   "source": [
    "Pasamos los valores a millones, sabemos que los valores altos que habian no corresponden al valor en millones ya que sabemos que \n",
    "la plantilla del valencia no tiene jugadores tan valiosos."
   ]
  },
  {
   "cell_type": "code",
   "execution_count": 17,
   "metadata": {},
   "outputs": [],
   "source": [
    "temporada18.loc[temporada18.Valor >= 100,\"Valor\"] = temporada18.loc[temporada18.Valor >= 100,\"Valor\"]/1000\n"
   ]
  },
  {
   "cell_type": "code",
   "execution_count": 18,
   "metadata": {},
   "outputs": [],
   "source": [
    "temporada18[\"Valor millones\"] = temporada18.Valor "
   ]
  },
  {
   "cell_type": "code",
   "execution_count": 19,
   "metadata": {},
   "outputs": [],
   "source": [
    "temporada18 = temporada18.drop(columns=[\"Valor\"])"
   ]
  },
  {
   "cell_type": "code",
   "execution_count": 20,
   "metadata": {},
   "outputs": [
    {
     "data": {
      "text/html": [
       "<div>\n",
       "<style scoped>\n",
       "    .dataframe tbody tr th:only-of-type {\n",
       "        vertical-align: middle;\n",
       "    }\n",
       "\n",
       "    .dataframe tbody tr th {\n",
       "        vertical-align: top;\n",
       "    }\n",
       "\n",
       "    .dataframe thead th {\n",
       "        text-align: right;\n",
       "    }\n",
       "</style>\n",
       "<table border=\"1\" class=\"dataframe\">\n",
       "  <thead>\n",
       "    <tr style=\"text-align: right;\">\n",
       "      <th></th>\n",
       "      <th>Nombre</th>\n",
       "      <th>Posicion</th>\n",
       "      <th>Edad</th>\n",
       "      <th>Nacionalidad</th>\n",
       "      <th>Valor millones</th>\n",
       "    </tr>\n",
       "  </thead>\n",
       "  <tbody>\n",
       "    <tr>\n",
       "      <th>0</th>\n",
       "      <td>Neto</td>\n",
       "      <td>Portero</td>\n",
       "      <td>28</td>\n",
       "      <td>Brasil</td>\n",
       "      <td>15.00</td>\n",
       "    </tr>\n",
       "    <tr>\n",
       "      <th>1</th>\n",
       "      <td>Jaume Doménech</td>\n",
       "      <td>Portero</td>\n",
       "      <td>27</td>\n",
       "      <td>España</td>\n",
       "      <td>2.50</td>\n",
       "    </tr>\n",
       "    <tr>\n",
       "      <th>2</th>\n",
       "      <td>Cristian Rivero</td>\n",
       "      <td>Portero</td>\n",
       "      <td>20</td>\n",
       "      <td>España</td>\n",
       "      <td>0.25</td>\n",
       "    </tr>\n",
       "    <tr>\n",
       "      <th>3</th>\n",
       "      <td>Gabriel Paulista</td>\n",
       "      <td>Defensa central</td>\n",
       "      <td>27</td>\n",
       "      <td>Brasil</td>\n",
       "      <td>20.00</td>\n",
       "    </tr>\n",
       "    <tr>\n",
       "      <th>4</th>\n",
       "      <td>Jeison Murillo</td>\n",
       "      <td>Defensa central</td>\n",
       "      <td>26</td>\n",
       "      <td>Colombia</td>\n",
       "      <td>15.00</td>\n",
       "    </tr>\n",
       "    <tr>\n",
       "      <th>5</th>\n",
       "      <td>Ezequiel Garay</td>\n",
       "      <td>Defensa central</td>\n",
       "      <td>31</td>\n",
       "      <td>Argentina</td>\n",
       "      <td>12.00</td>\n",
       "    </tr>\n",
       "    <tr>\n",
       "      <th>6</th>\n",
       "      <td>Rúben Vezo</td>\n",
       "      <td>Defensa central</td>\n",
       "      <td>24</td>\n",
       "      <td>Portugal</td>\n",
       "      <td>6.00</td>\n",
       "    </tr>\n",
       "    <tr>\n",
       "      <th>7</th>\n",
       "      <td>Javi Jiménez</td>\n",
       "      <td>Defensa central</td>\n",
       "      <td>21</td>\n",
       "      <td>España</td>\n",
       "      <td>0.30</td>\n",
       "    </tr>\n",
       "    <tr>\n",
       "      <th>8</th>\n",
       "      <td>José Gayà</td>\n",
       "      <td>Lateral izquierdo</td>\n",
       "      <td>23</td>\n",
       "      <td>España</td>\n",
       "      <td>35.00</td>\n",
       "    </tr>\n",
       "    <tr>\n",
       "      <th>9</th>\n",
       "      <td>Toni Lato</td>\n",
       "      <td>Lateral izquierdo</td>\n",
       "      <td>20</td>\n",
       "      <td>España</td>\n",
       "      <td>8.00</td>\n",
       "    </tr>\n",
       "    <tr>\n",
       "      <th>10</th>\n",
       "      <td>João Cancelo</td>\n",
       "      <td>Lateral derecho</td>\n",
       "      <td>24</td>\n",
       "      <td>Portugal</td>\n",
       "      <td>35.00</td>\n",
       "    </tr>\n",
       "    <tr>\n",
       "      <th>11</th>\n",
       "      <td>Martín Montoya</td>\n",
       "      <td>Lateral derecho</td>\n",
       "      <td>27</td>\n",
       "      <td>España</td>\n",
       "      <td>8.00</td>\n",
       "    </tr>\n",
       "    <tr>\n",
       "      <th>12</th>\n",
       "      <td>Nacho Vidal</td>\n",
       "      <td>Lateral derecho</td>\n",
       "      <td>23</td>\n",
       "      <td>España</td>\n",
       "      <td>1.00</td>\n",
       "    </tr>\n",
       "    <tr>\n",
       "      <th>13</th>\n",
       "      <td>Geoffrey Kondogbia</td>\n",
       "      <td>Pivote</td>\n",
       "      <td>25</td>\n",
       "      <td>República Centroafricana</td>\n",
       "      <td>30.00</td>\n",
       "    </tr>\n",
       "    <tr>\n",
       "      <th>14</th>\n",
       "      <td>Francis Coquelin</td>\n",
       "      <td>Pivote</td>\n",
       "      <td>27</td>\n",
       "      <td>Francia</td>\n",
       "      <td>12.00</td>\n",
       "    </tr>\n",
       "    <tr>\n",
       "      <th>15</th>\n",
       "      <td>Carlos Soler</td>\n",
       "      <td>Mediocentro</td>\n",
       "      <td>21</td>\n",
       "      <td>España</td>\n",
       "      <td>30.00</td>\n",
       "    </tr>\n",
       "    <tr>\n",
       "      <th>16</th>\n",
       "      <td>Dani Parejo</td>\n",
       "      <td>Mediocentro</td>\n",
       "      <td>29</td>\n",
       "      <td>España</td>\n",
       "      <td>20.00</td>\n",
       "    </tr>\n",
       "    <tr>\n",
       "      <th>17</th>\n",
       "      <td>Nemanja Maksimovic</td>\n",
       "      <td>Mediocentro</td>\n",
       "      <td>23</td>\n",
       "      <td>Serbia</td>\n",
       "      <td>3.00</td>\n",
       "    </tr>\n",
       "    <tr>\n",
       "      <th>18</th>\n",
       "      <td>Álvaro Medrán</td>\n",
       "      <td>Mediocentro</td>\n",
       "      <td>24</td>\n",
       "      <td>España</td>\n",
       "      <td>1.80</td>\n",
       "    </tr>\n",
       "    <tr>\n",
       "      <th>19</th>\n",
       "      <td>Gonzalo Villar</td>\n",
       "      <td>Mediocentro</td>\n",
       "      <td>20</td>\n",
       "      <td>España</td>\n",
       "      <td>0.20</td>\n",
       "    </tr>\n",
       "    <tr>\n",
       "      <th>20</th>\n",
       "      <td>Andreas Pereira</td>\n",
       "      <td>Mediocentro ofensivo</td>\n",
       "      <td>22</td>\n",
       "      <td>Brasil</td>\n",
       "      <td>6.00</td>\n",
       "    </tr>\n",
       "    <tr>\n",
       "      <th>21</th>\n",
       "      <td>Gonçalo Guedes</td>\n",
       "      <td>Extremo izquierdo</td>\n",
       "      <td>21</td>\n",
       "      <td>Portugal</td>\n",
       "      <td>40.00</td>\n",
       "    </tr>\n",
       "    <tr>\n",
       "      <th>22</th>\n",
       "      <td>Ferran Torres</td>\n",
       "      <td>Extremo izquierdo</td>\n",
       "      <td>18</td>\n",
       "      <td>España</td>\n",
       "      <td>5.00</td>\n",
       "    </tr>\n",
       "    <tr>\n",
       "      <th>23</th>\n",
       "      <td>Nacho Gil</td>\n",
       "      <td>Extremo izquierdo</td>\n",
       "      <td>22</td>\n",
       "      <td>España</td>\n",
       "      <td>0.80</td>\n",
       "    </tr>\n",
       "    <tr>\n",
       "      <th>24</th>\n",
       "      <td>Fabián Orellana</td>\n",
       "      <td>Extremo derecho</td>\n",
       "      <td>32</td>\n",
       "      <td>Chile</td>\n",
       "      <td>2.00</td>\n",
       "    </tr>\n",
       "    <tr>\n",
       "      <th>25</th>\n",
       "      <td>Rober Ibáñez</td>\n",
       "      <td>Extremo derecho</td>\n",
       "      <td>25</td>\n",
       "      <td>España</td>\n",
       "      <td>1.20</td>\n",
       "    </tr>\n",
       "    <tr>\n",
       "      <th>26</th>\n",
       "      <td>Rodrigo</td>\n",
       "      <td>Delantero centro</td>\n",
       "      <td>27</td>\n",
       "      <td>España</td>\n",
       "      <td>40.00</td>\n",
       "    </tr>\n",
       "    <tr>\n",
       "      <th>27</th>\n",
       "      <td>Simone Zaza</td>\n",
       "      <td>Delantero centro</td>\n",
       "      <td>27</td>\n",
       "      <td>Italia</td>\n",
       "      <td>22.00</td>\n",
       "    </tr>\n",
       "    <tr>\n",
       "      <th>28</th>\n",
       "      <td>Santi Mina</td>\n",
       "      <td>Delantero centro</td>\n",
       "      <td>22</td>\n",
       "      <td>España</td>\n",
       "      <td>20.00</td>\n",
       "    </tr>\n",
       "    <tr>\n",
       "      <th>29</th>\n",
       "      <td>Luciano Vietto</td>\n",
       "      <td>Delantero centro</td>\n",
       "      <td>24</td>\n",
       "      <td>Argentina</td>\n",
       "      <td>6.00</td>\n",
       "    </tr>\n",
       "  </tbody>\n",
       "</table>\n",
       "</div>"
      ],
      "text/plain": [
       "                Nombre              Posicion  Edad              Nacionalidad  \\\n",
       "0                 Neto               Portero    28                    Brasil   \n",
       "1       Jaume Doménech               Portero    27                    España   \n",
       "2      Cristian Rivero               Portero    20                    España   \n",
       "3     Gabriel Paulista       Defensa central    27                    Brasil   \n",
       "4       Jeison Murillo       Defensa central    26                  Colombia   \n",
       "5       Ezequiel Garay       Defensa central    31                 Argentina   \n",
       "6           Rúben Vezo       Defensa central    24                  Portugal   \n",
       "7         Javi Jiménez       Defensa central    21                    España   \n",
       "8            José Gayà     Lateral izquierdo    23                    España   \n",
       "9            Toni Lato     Lateral izquierdo    20                    España   \n",
       "10        João Cancelo       Lateral derecho    24                  Portugal   \n",
       "11      Martín Montoya       Lateral derecho    27                    España   \n",
       "12         Nacho Vidal       Lateral derecho    23                    España   \n",
       "13  Geoffrey Kondogbia                Pivote    25  República Centroafricana   \n",
       "14    Francis Coquelin                Pivote    27                   Francia   \n",
       "15        Carlos Soler           Mediocentro    21                    España   \n",
       "16         Dani Parejo           Mediocentro    29                    España   \n",
       "17  Nemanja Maksimovic           Mediocentro    23                    Serbia   \n",
       "18       Álvaro Medrán           Mediocentro    24                    España   \n",
       "19      Gonzalo Villar           Mediocentro    20                    España   \n",
       "20     Andreas Pereira  Mediocentro ofensivo    22                    Brasil   \n",
       "21      Gonçalo Guedes     Extremo izquierdo    21                  Portugal   \n",
       "22       Ferran Torres     Extremo izquierdo    18                    España   \n",
       "23           Nacho Gil     Extremo izquierdo    22                    España   \n",
       "24     Fabián Orellana       Extremo derecho    32                     Chile   \n",
       "25        Rober Ibáñez       Extremo derecho    25                    España   \n",
       "26             Rodrigo      Delantero centro    27                    España   \n",
       "27         Simone Zaza      Delantero centro    27                    Italia   \n",
       "28          Santi Mina      Delantero centro    22                    España   \n",
       "29      Luciano Vietto      Delantero centro    24                 Argentina   \n",
       "\n",
       "    Valor millones  \n",
       "0            15.00  \n",
       "1             2.50  \n",
       "2             0.25  \n",
       "3            20.00  \n",
       "4            15.00  \n",
       "5            12.00  \n",
       "6             6.00  \n",
       "7             0.30  \n",
       "8            35.00  \n",
       "9             8.00  \n",
       "10           35.00  \n",
       "11            8.00  \n",
       "12            1.00  \n",
       "13           30.00  \n",
       "14           12.00  \n",
       "15           30.00  \n",
       "16           20.00  \n",
       "17            3.00  \n",
       "18            1.80  \n",
       "19            0.20  \n",
       "20            6.00  \n",
       "21           40.00  \n",
       "22            5.00  \n",
       "23            0.80  \n",
       "24            2.00  \n",
       "25            1.20  \n",
       "26           40.00  \n",
       "27           22.00  \n",
       "28           20.00  \n",
       "29            6.00  "
      ]
     },
     "execution_count": 20,
     "metadata": {},
     "output_type": "execute_result"
    }
   ],
   "source": [
    "temporada18"
   ]
  },
  {
   "cell_type": "code",
   "execution_count": 21,
   "metadata": {},
   "outputs": [
    {
     "name": "stderr",
     "output_type": "stream",
     "text": [
      "C:\\Users\\raul_\\AppData\\Local\\Temp\\ipykernel_5836\\104178961.py:3: FutureWarning: A value is trying to be set on a copy of a DataFrame or Series through chained assignment using an inplace method.\n",
      "The behavior will change in pandas 3.0. This inplace method will never work because the intermediate object on which we are setting values always behaves as a copy.\n",
      "\n",
      "For example, when doing 'df[col].method(value, inplace=True)', try using 'df.method({col: value}, inplace=True)' or df[col] = df[col].method(value) instead, to perform the operation inplace on the original object.\n",
      "\n",
      "\n",
      "  temporada18[\"Valor millones\"].fillna(min_valor, inplace=True)\n"
     ]
    }
   ],
   "source": [
    "#temporada22[\"Valor millones\"].fillna(temporada22[\"Valor millones\"].min, inplace=True)\n",
    "min_valor = temporada18[\"Valor millones\"].min()\n",
    "temporada18[\"Valor millones\"].fillna(min_valor, inplace=True)"
   ]
  },
  {
   "cell_type": "code",
   "execution_count": 22,
   "metadata": {},
   "outputs": [
    {
     "name": "stderr",
     "output_type": "stream",
     "text": [
      "<>:1: SyntaxWarning: invalid escape sequence '\\D'\n",
      "<>:1: SyntaxWarning: invalid escape sequence '\\D'\n",
      "C:\\Users\\raul_\\AppData\\Local\\Temp\\ipykernel_5836\\949997348.py:1: SyntaxWarning: invalid escape sequence '\\D'\n",
      "  ruta=\"D:\\DATASCIENCE\\Repositorios\\ONLINE_DS_THEBRIDGE_RAULSOLER\\Proyecto EDA\\LIMGOHOME\\DatasLimpios\\Temporada18_17.csv\"\n"
     ]
    }
   ],
   "source": [
    "ruta=\"D:\\DATASCIENCE\\Repositorios\\ONLINE_DS_THEBRIDGE_RAULSOLER\\Proyecto EDA\\LIMGOHOME\\DatasLimpios\\Temporada18_17.csv\"\n",
    "\n",
    "temporada18.to_csv(ruta, index=\"False\")"
   ]
  }
 ],
 "metadata": {
  "kernelspec": {
   "display_name": "Python 3",
   "language": "python",
   "name": "python3"
  },
  "language_info": {
   "codemirror_mode": {
    "name": "ipython",
    "version": 3
   },
   "file_extension": ".py",
   "mimetype": "text/x-python",
   "name": "python",
   "nbconvert_exporter": "python",
   "pygments_lexer": "ipython3",
   "version": "3.12.2"
  }
 },
 "nbformat": 4,
 "nbformat_minor": 2
}
