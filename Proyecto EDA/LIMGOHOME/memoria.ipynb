{
 "cells": [
  {
   "cell_type": "code",
   "execution_count": 553,
   "metadata": {},
   "outputs": [],
   "source": [
    "import matplotlib.pyplot as plt\n",
    "import numpy as np\n",
    "import pandas as pd\n",
    "import seaborn as sns"
   ]
  },
  {
   "cell_type": "markdown",
   "metadata": {},
   "source": [
    "Toda la información que he sacado ha sido a traves de web scrapping de las siguientes webs:\n",
    "\n",
    "-https://www.transfermarkt.es/fc-valencia/startseite/verein/1049/saison_id/2023\n",
    "\n",
    "https://fbref.com/es/equipos/dcc91a7b/historia/Estadisticas-e-historial-de-Valencia"
   ]
  },
  {
   "cell_type": "markdown",
   "metadata": {},
   "source": [
    "VAMOS A SACAR DE CADA TEMPORADA QUE HEMOS PASADO EN CSV EL VALOR Y LA EDAD DE CADA PLANTILLA EN CADA TEMPORADA, Y LAS UNIREMOS EN UN MISMO DATAFRAME."
   ]
  },
  {
   "cell_type": "code",
   "execution_count": 554,
   "metadata": {},
   "outputs": [],
   "source": [
    "#CREAMOS UN DICCIONARIO PARA IR METIENDO LOS DATOS Y GENERERAR NUESTRO DATAFRAME\n",
    "valor_y_edad ={\n",
    "    \"Edad\":[],\n",
    "    \"Valor Equipo\": [],\n",
    "    \"Temporada\":[]\n",
    "}"
   ]
  },
  {
   "cell_type": "markdown",
   "metadata": {},
   "source": [
    "TEMPORADA 23/24"
   ]
  },
  {
   "cell_type": "code",
   "execution_count": 555,
   "metadata": {},
   "outputs": [],
   "source": [
    "Temporada24 = pd.read_csv(\"DatasLimpios/Temporada24_23.csv\",index_col=None )\n",
    "Temporada24 = Temporada24.drop(\"Unnamed: 0\", axis=1)\n",
    "valor24 = round(Temporada24[\"Valor millones\"].sum(),2)\n",
    "media24 = Temporada24[\"Edad\"].mean()"
   ]
  },
  {
   "cell_type": "code",
   "execution_count": 556,
   "metadata": {},
   "outputs": [],
   "source": [
    "valor_y_edad[\"Edad\"].append(media24)\n",
    "valor_y_edad[\"Valor Equipo\"].append(valor24)\n",
    "valor_y_edad[\"Temporada\"].append(\"23/24\")"
   ]
  },
  {
   "cell_type": "markdown",
   "metadata": {},
   "source": [
    "TEMPORADA 22/23"
   ]
  },
  {
   "cell_type": "code",
   "execution_count": 557,
   "metadata": {},
   "outputs": [],
   "source": [
    "Temporada23 = pd.read_csv(\"DatasLimpios/Temporada23_22.csv\",index_col=None )\n",
    "Temporada23 = Temporada23.drop(\"Unnamed: 0\", axis=1)\n",
    "valor23 = round(Temporada23[\"Valor millones\"].sum(),2)\n",
    "media23 = Temporada23[\"Edad\"].mean()"
   ]
  },
  {
   "cell_type": "code",
   "execution_count": 558,
   "metadata": {},
   "outputs": [
    {
     "data": {
      "text/html": [
       "<div>\n",
       "<style scoped>\n",
       "    .dataframe tbody tr th:only-of-type {\n",
       "        vertical-align: middle;\n",
       "    }\n",
       "\n",
       "    .dataframe tbody tr th {\n",
       "        vertical-align: top;\n",
       "    }\n",
       "\n",
       "    .dataframe thead th {\n",
       "        text-align: right;\n",
       "    }\n",
       "</style>\n",
       "<table border=\"1\" class=\"dataframe\">\n",
       "  <thead>\n",
       "    <tr style=\"text-align: right;\">\n",
       "      <th></th>\n",
       "      <th>Nombre</th>\n",
       "      <th>Posicion</th>\n",
       "      <th>Edad</th>\n",
       "      <th>Nacionalidad</th>\n",
       "      <th>Valor millones</th>\n",
       "    </tr>\n",
       "  </thead>\n",
       "  <tbody>\n",
       "    <tr>\n",
       "      <th>0</th>\n",
       "      <td>Giorgi Mamardashvili</td>\n",
       "      <td>Portero</td>\n",
       "      <td>22</td>\n",
       "      <td>Georgia</td>\n",
       "      <td>25.0</td>\n",
       "    </tr>\n",
       "    <tr>\n",
       "      <th>1</th>\n",
       "      <td>Jaume Doménech</td>\n",
       "      <td>Portero</td>\n",
       "      <td>32</td>\n",
       "      <td>España</td>\n",
       "      <td>1.0</td>\n",
       "    </tr>\n",
       "    <tr>\n",
       "      <th>2</th>\n",
       "      <td>Iago Herrerín</td>\n",
       "      <td>Portero</td>\n",
       "      <td>35</td>\n",
       "      <td>España</td>\n",
       "      <td>0.5</td>\n",
       "    </tr>\n",
       "    <tr>\n",
       "      <th>3</th>\n",
       "      <td>Emilio Bernad</td>\n",
       "      <td>Portero</td>\n",
       "      <td>23</td>\n",
       "      <td>España</td>\n",
       "      <td>0.3</td>\n",
       "    </tr>\n",
       "    <tr>\n",
       "      <th>4</th>\n",
       "      <td>Cristian Rivero</td>\n",
       "      <td>Portero</td>\n",
       "      <td>25</td>\n",
       "      <td>España</td>\n",
       "      <td>0.2</td>\n",
       "    </tr>\n",
       "    <tr>\n",
       "      <th>5</th>\n",
       "      <td>Charlie Pérez</td>\n",
       "      <td>Portero</td>\n",
       "      <td>21</td>\n",
       "      <td>España</td>\n",
       "      <td>25.0</td>\n",
       "    </tr>\n",
       "    <tr>\n",
       "      <th>6</th>\n",
       "      <td>Mouctar Diakhaby</td>\n",
       "      <td>Defensa central</td>\n",
       "      <td>26</td>\n",
       "      <td>Guinea</td>\n",
       "      <td>6.0</td>\n",
       "    </tr>\n",
       "    <tr>\n",
       "      <th>7</th>\n",
       "      <td>Cenk Özkacar</td>\n",
       "      <td>Defensa central</td>\n",
       "      <td>22</td>\n",
       "      <td>Turquía</td>\n",
       "      <td>5.0</td>\n",
       "    </tr>\n",
       "    <tr>\n",
       "      <th>8</th>\n",
       "      <td>Eray Cömert</td>\n",
       "      <td>Defensa central</td>\n",
       "      <td>25</td>\n",
       "      <td>Suiza</td>\n",
       "      <td>3.5</td>\n",
       "    </tr>\n",
       "    <tr>\n",
       "      <th>9</th>\n",
       "      <td>Gabriel Paulista</td>\n",
       "      <td>Defensa central</td>\n",
       "      <td>32</td>\n",
       "      <td>Brasil</td>\n",
       "      <td>2.5</td>\n",
       "    </tr>\n",
       "    <tr>\n",
       "      <th>10</th>\n",
       "      <td>Cristhian Mosquera</td>\n",
       "      <td>Defensa central</td>\n",
       "      <td>19</td>\n",
       "      <td>España</td>\n",
       "      <td>1.0</td>\n",
       "    </tr>\n",
       "    <tr>\n",
       "      <th>11</th>\n",
       "      <td>Rubén Iranzo</td>\n",
       "      <td>Defensa central</td>\n",
       "      <td>20</td>\n",
       "      <td>España</td>\n",
       "      <td>0.2</td>\n",
       "    </tr>\n",
       "    <tr>\n",
       "      <th>12</th>\n",
       "      <td>José Gayà</td>\n",
       "      <td>Lateral izquierdo</td>\n",
       "      <td>28</td>\n",
       "      <td>España</td>\n",
       "      <td>30.0</td>\n",
       "    </tr>\n",
       "    <tr>\n",
       "      <th>13</th>\n",
       "      <td>Jesús Vázquez</td>\n",
       "      <td>Lateral izquierdo</td>\n",
       "      <td>20</td>\n",
       "      <td>España</td>\n",
       "      <td>3.0</td>\n",
       "    </tr>\n",
       "    <tr>\n",
       "      <th>14</th>\n",
       "      <td>Toni Lato</td>\n",
       "      <td>Lateral izquierdo</td>\n",
       "      <td>25</td>\n",
       "      <td>España</td>\n",
       "      <td>2.5</td>\n",
       "    </tr>\n",
       "    <tr>\n",
       "      <th>15</th>\n",
       "      <td>Thierry Correia</td>\n",
       "      <td>Lateral derecho</td>\n",
       "      <td>24</td>\n",
       "      <td>Portugal</td>\n",
       "      <td>8.0</td>\n",
       "    </tr>\n",
       "    <tr>\n",
       "      <th>16</th>\n",
       "      <td>Dimitri Foulquier</td>\n",
       "      <td>Lateral derecho</td>\n",
       "      <td>30</td>\n",
       "      <td>Guadalupe</td>\n",
       "      <td>2.5</td>\n",
       "    </tr>\n",
       "    <tr>\n",
       "      <th>17</th>\n",
       "      <td>Hugo Guillamón</td>\n",
       "      <td>Pivote</td>\n",
       "      <td>23</td>\n",
       "      <td>España</td>\n",
       "      <td>14.0</td>\n",
       "    </tr>\n",
       "    <tr>\n",
       "      <th>18</th>\n",
       "      <td>Uroš Račić</td>\n",
       "      <td>Pivote</td>\n",
       "      <td>25</td>\n",
       "      <td>Serbia</td>\n",
       "      <td>6.5</td>\n",
       "    </tr>\n",
       "    <tr>\n",
       "      <th>19</th>\n",
       "      <td>Carlos Soler</td>\n",
       "      <td>Mediocentro</td>\n",
       "      <td>26</td>\n",
       "      <td>España</td>\n",
       "      <td>25.0</td>\n",
       "    </tr>\n",
       "    <tr>\n",
       "      <th>20</th>\n",
       "      <td>André Almeida</td>\n",
       "      <td>Mediocentro</td>\n",
       "      <td>23</td>\n",
       "      <td>Portugal</td>\n",
       "      <td>20.0</td>\n",
       "    </tr>\n",
       "    <tr>\n",
       "      <th>21</th>\n",
       "      <td>Yunus Musah</td>\n",
       "      <td>Mediocentro</td>\n",
       "      <td>20</td>\n",
       "      <td>Estados Unidos</td>\n",
       "      <td>18.0</td>\n",
       "    </tr>\n",
       "    <tr>\n",
       "      <th>22</th>\n",
       "      <td>Nico González</td>\n",
       "      <td>Mediocentro</td>\n",
       "      <td>21</td>\n",
       "      <td>España</td>\n",
       "      <td>10.0</td>\n",
       "    </tr>\n",
       "    <tr>\n",
       "      <th>23</th>\n",
       "      <td>Ilaix Moriba</td>\n",
       "      <td>Mediocentro</td>\n",
       "      <td>20</td>\n",
       "      <td>Guinea</td>\n",
       "      <td>4.0</td>\n",
       "    </tr>\n",
       "    <tr>\n",
       "      <th>24</th>\n",
       "      <td>Javi Guerra</td>\n",
       "      <td>Mediocentro</td>\n",
       "      <td>20</td>\n",
       "      <td>España</td>\n",
       "      <td>2.0</td>\n",
       "    </tr>\n",
       "    <tr>\n",
       "      <th>25</th>\n",
       "      <td>Koba Koindredi</td>\n",
       "      <td>Mediocentro</td>\n",
       "      <td>21</td>\n",
       "      <td>Francia</td>\n",
       "      <td>1.0</td>\n",
       "    </tr>\n",
       "    <tr>\n",
       "      <th>26</th>\n",
       "      <td>Tiago Ribeiro</td>\n",
       "      <td>Mediocentro</td>\n",
       "      <td>21</td>\n",
       "      <td>Portugal</td>\n",
       "      <td>0.2</td>\n",
       "    </tr>\n",
       "    <tr>\n",
       "      <th>27</th>\n",
       "      <td>Yellu Santiago</td>\n",
       "      <td>Mediocentro</td>\n",
       "      <td>19</td>\n",
       "      <td>España</td>\n",
       "      <td>0.1</td>\n",
       "    </tr>\n",
       "    <tr>\n",
       "      <th>28</th>\n",
       "      <td>Samuel Lino</td>\n",
       "      <td>Extremo izquierdo</td>\n",
       "      <td>23</td>\n",
       "      <td>Brasil</td>\n",
       "      <td>16.0</td>\n",
       "    </tr>\n",
       "    <tr>\n",
       "      <th>29</th>\n",
       "      <td>Justin Kluivert</td>\n",
       "      <td>Extremo izquierdo</td>\n",
       "      <td>24</td>\n",
       "      <td>Países Bajos</td>\n",
       "      <td>14.0</td>\n",
       "    </tr>\n",
       "    <tr>\n",
       "      <th>30</th>\n",
       "      <td>Diego López</td>\n",
       "      <td>Extremo izquierdo</td>\n",
       "      <td>21</td>\n",
       "      <td>España</td>\n",
       "      <td>1.5</td>\n",
       "    </tr>\n",
       "    <tr>\n",
       "      <th>31</th>\n",
       "      <td>Samu Castillejo</td>\n",
       "      <td>Extremo derecho</td>\n",
       "      <td>28</td>\n",
       "      <td>España</td>\n",
       "      <td>6.0</td>\n",
       "    </tr>\n",
       "    <tr>\n",
       "      <th>32</th>\n",
       "      <td>Fran Pérez</td>\n",
       "      <td>Extremo derecho</td>\n",
       "      <td>20</td>\n",
       "      <td>España</td>\n",
       "      <td>0.5</td>\n",
       "    </tr>\n",
       "    <tr>\n",
       "      <th>33</th>\n",
       "      <td>Manu Vallejo</td>\n",
       "      <td>Mediapunta</td>\n",
       "      <td>26</td>\n",
       "      <td>España</td>\n",
       "      <td>2.4</td>\n",
       "    </tr>\n",
       "    <tr>\n",
       "      <th>34</th>\n",
       "      <td>Maxi Gómez</td>\n",
       "      <td>Delantero centro</td>\n",
       "      <td>26</td>\n",
       "      <td>Uruguay</td>\n",
       "      <td>7.0</td>\n",
       "    </tr>\n",
       "    <tr>\n",
       "      <th>35</th>\n",
       "      <td>Hugo Duro</td>\n",
       "      <td>Delantero centro</td>\n",
       "      <td>23</td>\n",
       "      <td>España</td>\n",
       "      <td>4.0</td>\n",
       "    </tr>\n",
       "    <tr>\n",
       "      <th>36</th>\n",
       "      <td>Edinson Cavani</td>\n",
       "      <td>Delantero centro</td>\n",
       "      <td>36</td>\n",
       "      <td>Uruguay</td>\n",
       "      <td>3.0</td>\n",
       "    </tr>\n",
       "    <tr>\n",
       "      <th>37</th>\n",
       "      <td>Marcos André</td>\n",
       "      <td>Delantero centro</td>\n",
       "      <td>26</td>\n",
       "      <td>Brasil</td>\n",
       "      <td>2.5</td>\n",
       "    </tr>\n",
       "    <tr>\n",
       "      <th>38</th>\n",
       "      <td>Alberto Marí</td>\n",
       "      <td>Delantero centro</td>\n",
       "      <td>21</td>\n",
       "      <td>España</td>\n",
       "      <td>0.8</td>\n",
       "    </tr>\n",
       "    <tr>\n",
       "      <th>39</th>\n",
       "      <td>Mario Dominguez</td>\n",
       "      <td>Delantero centro</td>\n",
       "      <td>19</td>\n",
       "      <td>España</td>\n",
       "      <td>25.0</td>\n",
       "    </tr>\n",
       "  </tbody>\n",
       "</table>\n",
       "</div>"
      ],
      "text/plain": [
       "                  Nombre           Posicion  Edad    Nacionalidad  \\\n",
       "0   Giorgi Mamardashvili            Portero    22         Georgia   \n",
       "1         Jaume Doménech            Portero    32          España   \n",
       "2          Iago Herrerín            Portero    35          España   \n",
       "3          Emilio Bernad            Portero    23          España   \n",
       "4        Cristian Rivero            Portero    25          España   \n",
       "5          Charlie Pérez            Portero    21          España   \n",
       "6       Mouctar Diakhaby    Defensa central    26          Guinea   \n",
       "7           Cenk Özkacar    Defensa central    22         Turquía   \n",
       "8            Eray Cömert    Defensa central    25           Suiza   \n",
       "9       Gabriel Paulista    Defensa central    32          Brasil   \n",
       "10    Cristhian Mosquera    Defensa central    19          España   \n",
       "11          Rubén Iranzo    Defensa central    20          España   \n",
       "12             José Gayà  Lateral izquierdo    28          España   \n",
       "13         Jesús Vázquez  Lateral izquierdo    20          España   \n",
       "14             Toni Lato  Lateral izquierdo    25          España   \n",
       "15       Thierry Correia    Lateral derecho    24        Portugal   \n",
       "16     Dimitri Foulquier    Lateral derecho    30       Guadalupe   \n",
       "17        Hugo Guillamón             Pivote    23          España   \n",
       "18            Uroš Račić             Pivote    25          Serbia   \n",
       "19          Carlos Soler        Mediocentro    26          España   \n",
       "20         André Almeida        Mediocentro    23        Portugal   \n",
       "21           Yunus Musah        Mediocentro    20  Estados Unidos   \n",
       "22         Nico González        Mediocentro    21          España   \n",
       "23          Ilaix Moriba        Mediocentro    20          Guinea   \n",
       "24           Javi Guerra        Mediocentro    20          España   \n",
       "25        Koba Koindredi        Mediocentro    21         Francia   \n",
       "26         Tiago Ribeiro        Mediocentro    21        Portugal   \n",
       "27        Yellu Santiago        Mediocentro    19          España   \n",
       "28           Samuel Lino  Extremo izquierdo    23          Brasil   \n",
       "29       Justin Kluivert  Extremo izquierdo    24    Países Bajos   \n",
       "30           Diego López  Extremo izquierdo    21          España   \n",
       "31       Samu Castillejo    Extremo derecho    28          España   \n",
       "32            Fran Pérez    Extremo derecho    20          España   \n",
       "33          Manu Vallejo         Mediapunta    26          España   \n",
       "34            Maxi Gómez   Delantero centro    26         Uruguay   \n",
       "35             Hugo Duro   Delantero centro    23          España   \n",
       "36        Edinson Cavani   Delantero centro    36         Uruguay   \n",
       "37          Marcos André   Delantero centro    26          Brasil   \n",
       "38          Alberto Marí   Delantero centro    21          España   \n",
       "39       Mario Dominguez   Delantero centro    19          España   \n",
       "\n",
       "    Valor millones  \n",
       "0             25.0  \n",
       "1              1.0  \n",
       "2              0.5  \n",
       "3              0.3  \n",
       "4              0.2  \n",
       "5             25.0  \n",
       "6              6.0  \n",
       "7              5.0  \n",
       "8              3.5  \n",
       "9              2.5  \n",
       "10             1.0  \n",
       "11             0.2  \n",
       "12            30.0  \n",
       "13             3.0  \n",
       "14             2.5  \n",
       "15             8.0  \n",
       "16             2.5  \n",
       "17            14.0  \n",
       "18             6.5  \n",
       "19            25.0  \n",
       "20            20.0  \n",
       "21            18.0  \n",
       "22            10.0  \n",
       "23             4.0  \n",
       "24             2.0  \n",
       "25             1.0  \n",
       "26             0.2  \n",
       "27             0.1  \n",
       "28            16.0  \n",
       "29            14.0  \n",
       "30             1.5  \n",
       "31             6.0  \n",
       "32             0.5  \n",
       "33             2.4  \n",
       "34             7.0  \n",
       "35             4.0  \n",
       "36             3.0  \n",
       "37             2.5  \n",
       "38             0.8  \n",
       "39            25.0  "
      ]
     },
     "execution_count": 558,
     "metadata": {},
     "output_type": "execute_result"
    }
   ],
   "source": [
    "Temporada23\n"
   ]
  },
  {
   "cell_type": "code",
   "execution_count": 559,
   "metadata": {},
   "outputs": [],
   "source": [
    "valor_y_edad[\"Edad\"].append(media23)\n",
    "valor_y_edad[\"Valor Equipo\"].append(valor23)\n",
    "valor_y_edad[\"Temporada\"].append(\"22/23\")"
   ]
  },
  {
   "cell_type": "markdown",
   "metadata": {},
   "source": [
    "TEMPORADA 21/22"
   ]
  },
  {
   "cell_type": "code",
   "execution_count": 560,
   "metadata": {},
   "outputs": [],
   "source": [
    "Temporada22 = pd.read_csv(\"DatasLimpios/Temporada22_21.csv\",index_col=None )\n",
    "Temporada22 = Temporada22.drop(\"Unnamed: 0\", axis=1)\n",
    "valor22 = round(Temporada22[\"Valor millones\"].sum(),2)\n",
    "media22 = Temporada22[\"Edad\"].mean()"
   ]
  },
  {
   "cell_type": "code",
   "execution_count": 561,
   "metadata": {},
   "outputs": [],
   "source": [
    "valor_y_edad[\"Edad\"].append(media22)\n",
    "valor_y_edad[\"Valor Equipo\"].append(valor22)\n",
    "valor_y_edad[\"Temporada\"].append(\"21/22\")"
   ]
  },
  {
   "cell_type": "markdown",
   "metadata": {},
   "source": [
    "TEMPORADA 20/21"
   ]
  },
  {
   "cell_type": "code",
   "execution_count": 562,
   "metadata": {},
   "outputs": [],
   "source": [
    "Temporada21 = pd.read_csv(\"DatasLimpios/Temporada21_20.csv\",index_col=None )\n",
    "Temporada21 = Temporada21.drop(\"Unnamed: 0\", axis=1)\n",
    "valor21 = round(Temporada21[\"Valor millones\"].sum(),2)\n",
    "media21 = Temporada21[\"Edad\"].mean()"
   ]
  },
  {
   "cell_type": "code",
   "execution_count": 563,
   "metadata": {},
   "outputs": [],
   "source": [
    "valor_y_edad[\"Edad\"].append(media21)\n",
    "valor_y_edad[\"Valor Equipo\"].append(valor21)\n",
    "valor_y_edad[\"Temporada\"].append(\"20/21\")"
   ]
  },
  {
   "cell_type": "markdown",
   "metadata": {},
   "source": [
    "TEMPORADA 19/20"
   ]
  },
  {
   "cell_type": "code",
   "execution_count": 564,
   "metadata": {},
   "outputs": [],
   "source": [
    "Temporada20 = pd.read_csv(\"DatasLimpios/Temporada20_19.csv\",index_col=None )\n",
    "Temporada20 = Temporada20.drop(\"Unnamed: 0\", axis=1)\n",
    "valor20 = round(Temporada20[\"Valor millones\"].sum(),2)\n",
    "media20 = Temporada20[\"Edad\"].mean()"
   ]
  },
  {
   "cell_type": "code",
   "execution_count": 565,
   "metadata": {},
   "outputs": [],
   "source": [
    "valor_y_edad[\"Edad\"].append(media20)\n",
    "valor_y_edad[\"Valor Equipo\"].append(valor20)\n",
    "valor_y_edad[\"Temporada\"].append(\"19/20\")"
   ]
  },
  {
   "cell_type": "markdown",
   "metadata": {},
   "source": [
    "TEMPORADA 18/19"
   ]
  },
  {
   "cell_type": "code",
   "execution_count": 566,
   "metadata": {},
   "outputs": [],
   "source": [
    "Temporada19 = pd.read_csv(\"DatasLimpios/Temporada19_18.csv\",index_col=None )\n",
    "Temporada19 = Temporada19.drop(\"Unnamed: 0\", axis=1)\n",
    "valor19 = round(Temporada19[\"Valor millones\"].sum(),2)\n",
    "media19 = Temporada19[\"Edad\"].mean()"
   ]
  },
  {
   "cell_type": "code",
   "execution_count": 567,
   "metadata": {},
   "outputs": [],
   "source": [
    "valor_y_edad[\"Edad\"].append(media19)\n",
    "valor_y_edad[\"Valor Equipo\"].append(valor19)\n",
    "valor_y_edad[\"Temporada\"].append(\"18/19\")"
   ]
  },
  {
   "cell_type": "markdown",
   "metadata": {},
   "source": [
    "TEMPORADA 17/18"
   ]
  },
  {
   "cell_type": "code",
   "execution_count": 568,
   "metadata": {},
   "outputs": [],
   "source": [
    "Temporada18 = pd.read_csv(\"DatasLimpios/Temporada18_17.csv\",index_col=None )\n",
    "Temporada18 = Temporada18.drop(\"Unnamed: 0\", axis=1)\n",
    "valor18 = round(Temporada18[\"Valor millones\"].sum(),2)\n",
    "media18 = Temporada18[\"Edad\"].mean()"
   ]
  },
  {
   "cell_type": "code",
   "execution_count": 569,
   "metadata": {},
   "outputs": [],
   "source": [
    "valor_y_edad[\"Edad\"].append(media18)\n",
    "valor_y_edad[\"Valor Equipo\"].append(valor18)\n",
    "valor_y_edad[\"Temporada\"].append(\"17/18\")"
   ]
  },
  {
   "cell_type": "markdown",
   "metadata": {},
   "source": [
    "TEMPORADA 16/17"
   ]
  },
  {
   "cell_type": "code",
   "execution_count": 570,
   "metadata": {},
   "outputs": [],
   "source": [
    "Temporada17 = pd.read_csv(\"DatasLimpios/Temporada17_16.csv\",index_col=None )\n",
    "Temporada17 = Temporada17.drop(\"Unnamed: 0\", axis=1)\n",
    "valor17 = round(Temporada17[\"Valor millones\"].sum(),2)\n",
    "media17 = Temporada17[\"Edad\"].mean()"
   ]
  },
  {
   "cell_type": "code",
   "execution_count": 571,
   "metadata": {},
   "outputs": [],
   "source": [
    "valor_y_edad[\"Edad\"].append(media17)\n",
    "valor_y_edad[\"Valor Equipo\"].append(valor17)\n",
    "valor_y_edad[\"Temporada\"].append(\"16/17\")"
   ]
  },
  {
   "cell_type": "markdown",
   "metadata": {},
   "source": [
    "TEMPORADA 15/16"
   ]
  },
  {
   "cell_type": "code",
   "execution_count": 572,
   "metadata": {},
   "outputs": [],
   "source": [
    "Temporada16 = pd.read_csv(\"DatasLimpios/Temporada16_15.csv\",index_col=None )\n",
    "Temporada16 = Temporada16.drop(\"Unnamed: 0\", axis=1)\n",
    "valor16 = round(Temporada16[\"Valor millones\"].sum(),2)\n",
    "media16 = Temporada16[\"Edad\"].mean()"
   ]
  },
  {
   "cell_type": "code",
   "execution_count": 573,
   "metadata": {},
   "outputs": [],
   "source": [
    "valor_y_edad[\"Edad\"].append(media16)\n",
    "valor_y_edad[\"Valor Equipo\"].append(valor16)\n",
    "valor_y_edad[\"Temporada\"].append(\"15/16\")"
   ]
  },
  {
   "cell_type": "markdown",
   "metadata": {},
   "source": [
    "TEMPORADA 14/15"
   ]
  },
  {
   "cell_type": "code",
   "execution_count": 574,
   "metadata": {},
   "outputs": [],
   "source": [
    "Temporada15 = pd.read_csv(\"DatasLimpios/Temporada15_14.csv\",index_col=None )\n",
    "Temporada15 = Temporada15.drop(\"Unnamed: 0\", axis=1)\n",
    "valor15 = round(Temporada15[\"Valor millones\"].sum(),2)\n",
    "media15 = Temporada15[\"Edad\"].mean()"
   ]
  },
  {
   "cell_type": "code",
   "execution_count": 575,
   "metadata": {},
   "outputs": [],
   "source": [
    "valor_y_edad[\"Edad\"].append(media15)\n",
    "valor_y_edad[\"Valor Equipo\"].append(valor15)\n",
    "valor_y_edad[\"Temporada\"].append(\"14/15\")"
   ]
  },
  {
   "cell_type": "markdown",
   "metadata": {},
   "source": [
    "TEMPORADA 13/14"
   ]
  },
  {
   "cell_type": "code",
   "execution_count": 576,
   "metadata": {},
   "outputs": [],
   "source": [
    "Temporada14 = pd.read_csv(\"DatasLimpios/Temporada14_13.csv\",index_col=None )\n",
    "Temporada14 = Temporada14.drop(\"Unnamed: 0\", axis=1)\n",
    "valor14 = round(Temporada14[\"Valor millones\"].sum(),2)\n",
    "media14 = Temporada14[\"Edad\"].mean()"
   ]
  },
  {
   "cell_type": "code",
   "execution_count": 577,
   "metadata": {},
   "outputs": [],
   "source": [
    "valor_y_edad[\"Edad\"].append(media14)\n",
    "valor_y_edad[\"Valor Equipo\"].append(valor14)\n",
    "valor_y_edad[\"Temporada\"].append(\"13/14\")"
   ]
  },
  {
   "cell_type": "markdown",
   "metadata": {},
   "source": [
    "VAMOS A GENERAR NUESTRO DATAFRAME"
   ]
  },
  {
   "cell_type": "code",
   "execution_count": 578,
   "metadata": {},
   "outputs": [],
   "source": [
    "df_equipo = pd.DataFrame(valor_y_edad)"
   ]
  },
  {
   "cell_type": "code",
   "execution_count": 579,
   "metadata": {},
   "outputs": [],
   "source": [
    "df_equipo.Edad = round(df_equipo.Edad,2)"
   ]
  },
  {
   "cell_type": "code",
   "execution_count": 580,
   "metadata": {},
   "outputs": [
    {
     "data": {
      "text/html": [
       "<div>\n",
       "<style scoped>\n",
       "    .dataframe tbody tr th:only-of-type {\n",
       "        vertical-align: middle;\n",
       "    }\n",
       "\n",
       "    .dataframe tbody tr th {\n",
       "        vertical-align: top;\n",
       "    }\n",
       "\n",
       "    .dataframe thead th {\n",
       "        text-align: right;\n",
       "    }\n",
       "</style>\n",
       "<table border=\"1\" class=\"dataframe\">\n",
       "  <thead>\n",
       "    <tr style=\"text-align: right;\">\n",
       "      <th></th>\n",
       "      <th>Edad</th>\n",
       "      <th>Valor Equipo</th>\n",
       "      <th>Temporada</th>\n",
       "    </tr>\n",
       "  </thead>\n",
       "  <tbody>\n",
       "    <tr>\n",
       "      <th>0</th>\n",
       "      <td>24.04</td>\n",
       "      <td>215.95</td>\n",
       "      <td>23/24</td>\n",
       "    </tr>\n",
       "    <tr>\n",
       "      <th>1</th>\n",
       "      <td>24.02</td>\n",
       "      <td>299.70</td>\n",
       "      <td>22/23</td>\n",
       "    </tr>\n",
       "    <tr>\n",
       "      <th>2</th>\n",
       "      <td>23.64</td>\n",
       "      <td>311.40</td>\n",
       "      <td>21/22</td>\n",
       "    </tr>\n",
       "    <tr>\n",
       "      <th>3</th>\n",
       "      <td>24.74</td>\n",
       "      <td>278.85</td>\n",
       "      <td>20/21</td>\n",
       "    </tr>\n",
       "    <tr>\n",
       "      <th>4</th>\n",
       "      <td>25.48</td>\n",
       "      <td>427.95</td>\n",
       "      <td>19/20</td>\n",
       "    </tr>\n",
       "    <tr>\n",
       "      <th>5</th>\n",
       "      <td>24.79</td>\n",
       "      <td>499.65</td>\n",
       "      <td>18/19</td>\n",
       "    </tr>\n",
       "    <tr>\n",
       "      <th>6</th>\n",
       "      <td>24.33</td>\n",
       "      <td>398.05</td>\n",
       "      <td>17/18</td>\n",
       "    </tr>\n",
       "    <tr>\n",
       "      <th>7</th>\n",
       "      <td>24.87</td>\n",
       "      <td>257.50</td>\n",
       "      <td>16/17</td>\n",
       "    </tr>\n",
       "    <tr>\n",
       "      <th>8</th>\n",
       "      <td>23.68</td>\n",
       "      <td>270.50</td>\n",
       "      <td>15/16</td>\n",
       "    </tr>\n",
       "    <tr>\n",
       "      <th>9</th>\n",
       "      <td>24.08</td>\n",
       "      <td>236.00</td>\n",
       "      <td>14/15</td>\n",
       "    </tr>\n",
       "    <tr>\n",
       "      <th>10</th>\n",
       "      <td>24.69</td>\n",
       "      <td>180.60</td>\n",
       "      <td>13/14</td>\n",
       "    </tr>\n",
       "  </tbody>\n",
       "</table>\n",
       "</div>"
      ],
      "text/plain": [
       "     Edad  Valor Equipo Temporada\n",
       "0   24.04        215.95     23/24\n",
       "1   24.02        299.70     22/23\n",
       "2   23.64        311.40     21/22\n",
       "3   24.74        278.85     20/21\n",
       "4   25.48        427.95     19/20\n",
       "5   24.79        499.65     18/19\n",
       "6   24.33        398.05     17/18\n",
       "7   24.87        257.50     16/17\n",
       "8   23.68        270.50     15/16\n",
       "9   24.08        236.00     14/15\n",
       "10  24.69        180.60     13/14"
      ]
     },
     "execution_count": 580,
     "metadata": {},
     "output_type": "execute_result"
    }
   ],
   "source": [
    "df_equipo\n",
    "#AQUI YA VEMOS UNA HIPOTESIS QUE PENSABAMOS QUE EDAD DE LA PLANTILLA SE VERIA BASTANTE REBAJA POR EL AUMENTO DE CANTERANOS EN EL PRIMER EQUIPO"
   ]
  },
  {
   "cell_type": "markdown",
   "metadata": {},
   "source": [
    "GENERAMOS UNA GRAFICA PARA VER LA EVOLUCIÓN DEL VALOR DEL EQUIPO DESDE LA LLEGADA DE PETER LIM EN LA TEMPORADA 19"
   ]
  },
  {
   "cell_type": "code",
   "execution_count": 581,
   "metadata": {},
   "outputs": [
    {
     "data": {
      "image/png": "[encoded data removed]",
      "text/plain": [
       "<Figure size 640x480 with 1 Axes>"
      ]
     },
     "metadata": {},
     "output_type": "display_data"
    }
   ],
   "source": [
    "ax = sns.barplot(x = df_equipo[\"Temporada\"], y = df_equipo[\"Valor Equipo\"], width=0.8,alpha=0.5, align=\"center\", hue=df_equipo[\"Temporada\"], legend=False)\n",
    "plt.ylabel(\"Valor en Millones\")\n",
    "plt.xticks(rotation=90, ha=\"center\")\n",
    "plt.xlim(-1, len(df_equipo[\"Valor Equipo\"])- 0.8)\n",
    "plt.gca().invert_xaxis();\n",
    "plt.title(\"Evolucion valor del equipo desde la llegada de Peter Lim\");\n",
    "plt.savefig(\"graficas/grafica_valor_equipo.png\")"
   ]
  },
  {
   "cell_type": "markdown",
   "metadata": {},
   "source": [
    "VAMOS A GENERAR AHORA UNA GRAFICA DE VENTAS PARA DEMOSTRAR SI ES VERDAD QUE ESTA DEVALUACIÓN VIENE PRECEDIDAD POR LA LLEGADA DE PETER LIM"
   ]
  },
  {
   "cell_type": "code",
   "execution_count": 582,
   "metadata": {},
   "outputs": [],
   "source": [
    "Ventas = pd.read_csv(\"DatasLimpios/MayoresVentas.csv\",index_col=None )\n",
    "Ventas = Ventas.drop(\"Unnamed: 0\", axis=1)"
   ]
  },
  {
   "cell_type": "code",
   "execution_count": 583,
   "metadata": {},
   "outputs": [],
   "source": [
    "Ventas = Ventas.sort_values(by=(\"Temporada\"), ascending=False)"
   ]
  },
  {
   "cell_type": "code",
   "execution_count": 584,
   "metadata": {},
   "outputs": [],
   "source": [
    "Ventas = Ventas.groupby('Temporada')['Precio'].sum().reset_index()"
   ]
  },
  {
   "cell_type": "markdown",
   "metadata": {},
   "source": [
    "GENERAMOS LA GRAFICA DE LAS VENTAS TOTALES DE LOS ÚLTIMOS AÑOS"
   ]
  },
  {
   "cell_type": "code",
   "execution_count": 585,
   "metadata": {},
   "outputs": [
    {
     "data": {
      "image/png": "[encoded data removed]",
      "text/plain": [
       "<Figure size 1000x600 with 1 Axes>"
      ]
     },
     "metadata": {},
     "output_type": "display_data"
    }
   ],
   "source": [
    "plt.figure(figsize=(10, 6))\n",
    "sns.barplot(data=Ventas, x='Temporada', y='Precio', hue=\"Temporada\", legend=False);\n",
    "plt.title('Ventas totales')\n",
    "plt.xlabel('Temporada')\n",
    "plt.ylabel('Ventas (en millones)')\n",
    "plt.xticks(rotation=45)\n",
    "#plt.gca().invert_xaxis();\n",
    "plt.savefig(\"graficas/Ventas_Total.png\");"
   ]
  },
  {
   "cell_type": "markdown",
   "metadata": {},
   "source": [
    "GENERAMOS LA GRAFICA DE LAS VENTAS DURANTE LA ETAPA LIM"
   ]
  },
  {
   "cell_type": "code",
   "execution_count": 586,
   "metadata": {},
   "outputs": [],
   "source": [
    "ventas_Lim = Ventas.iloc[0:10] #Desde la llegada de lim hasta actual para ver las grandes ventas\n",
    "suma_lim = round(ventas_Lim.Precio.sum(),2)\n",
    "ventas_por_temporada_Lim = ventas_Lim.groupby('Temporada')['Precio'].sum().reset_index()\n",
    "\n"
   ]
  },
  {
   "cell_type": "code",
   "execution_count": 587,
   "metadata": {},
   "outputs": [
    {
     "data": {
      "text/plain": [
       "435.8"
      ]
     },
     "execution_count": 587,
     "metadata": {},
     "output_type": "execute_result"
    }
   ],
   "source": [
    "suma_lim"
   ]
  },
  {
   "cell_type": "code",
   "execution_count": 588,
   "metadata": {},
   "outputs": [
    {
     "data": {
      "image/png": "[encoded data removed]",
      "text/plain": [
       "<Figure size 1000x600 with 1 Axes>"
      ]
     },
     "metadata": {},
     "output_type": "display_data"
    }
   ],
   "source": [
    "plt.figure(figsize=(10, 6))\n",
    "sns.barplot(data=ventas_por_temporada_Lim, x='Temporada', y='Precio', hue=\"Temporada\");\n",
    "plt.title('Ventas por Temporada de Peter Lim')\n",
    "plt.xlabel('Temporada')\n",
    "plt.ylabel('Ventas (en millones)')\n",
    "plt.xticks(rotation=45)\n",
    "plt.savefig(\"graficas/Ventas_PeterLim.png\")"
   ]
  },
  {
   "cell_type": "markdown",
   "metadata": {},
   "source": [
    "VAMOS A GENERAR LA GRAFICA DE LOS AÑOS ANTERIORES A PETER LIM"
   ]
  },
  {
   "cell_type": "code",
   "execution_count": 589,
   "metadata": {},
   "outputs": [],
   "source": [
    "resto_ventas = Ventas.iloc[10:17]  #Desde la temporada 16/17 hasta las 12/13 Para ver las grandes ventas\n",
    "suma_resto = round(resto_ventas.Precio.sum(),2)\n",
    "ventas_por_temporada = resto_ventas.groupby('Temporada')['Precio'].sum().reset_index()"
   ]
  },
  {
   "cell_type": "code",
   "execution_count": 590,
   "metadata": {},
   "outputs": [
    {
     "data": {
      "text/html": [
       "<div>\n",
       "<style scoped>\n",
       "    .dataframe tbody tr th:only-of-type {\n",
       "        vertical-align: middle;\n",
       "    }\n",
       "\n",
       "    .dataframe tbody tr th {\n",
       "        vertical-align: top;\n",
       "    }\n",
       "\n",
       "    .dataframe thead th {\n",
       "        text-align: right;\n",
       "    }\n",
       "</style>\n",
       "<table border=\"1\" class=\"dataframe\">\n",
       "  <thead>\n",
       "    <tr style=\"text-align: right;\">\n",
       "      <th></th>\n",
       "      <th>Temporada</th>\n",
       "      <th>Precio</th>\n",
       "    </tr>\n",
       "  </thead>\n",
       "  <tbody>\n",
       "    <tr>\n",
       "      <th>10</th>\n",
       "      <td>18/19</td>\n",
       "      <td>40.4</td>\n",
       "    </tr>\n",
       "    <tr>\n",
       "      <th>11</th>\n",
       "      <td>19/20</td>\n",
       "      <td>51.3</td>\n",
       "    </tr>\n",
       "    <tr>\n",
       "      <th>12</th>\n",
       "      <td>20/21</td>\n",
       "      <td>79.5</td>\n",
       "    </tr>\n",
       "    <tr>\n",
       "      <th>13</th>\n",
       "      <td>22/23</td>\n",
       "      <td>50.6</td>\n",
       "    </tr>\n",
       "    <tr>\n",
       "      <th>14</th>\n",
       "      <td>23/24</td>\n",
       "      <td>20.0</td>\n",
       "    </tr>\n",
       "  </tbody>\n",
       "</table>\n",
       "</div>"
      ],
      "text/plain": [
       "   Temporada  Precio\n",
       "10     18/19    40.4\n",
       "11     19/20    51.3\n",
       "12     20/21    79.5\n",
       "13     22/23    50.6\n",
       "14     23/24    20.0"
      ]
     },
     "execution_count": 590,
     "metadata": {},
     "output_type": "execute_result"
    }
   ],
   "source": [
    "resto_ventas"
   ]
  },
  {
   "cell_type": "code",
   "execution_count": 591,
   "metadata": {},
   "outputs": [
    {
     "data": {
      "image/png": "[encoded data removed]",
      "text/plain": [
       "<Figure size 1000x600 with 1 Axes>"
      ]
     },
     "metadata": {},
     "output_type": "display_data"
    }
   ],
   "source": [
    "plt.figure(figsize=(10, 6))\n",
    "sns.barplot(data=ventas_por_temporada, x='Temporada', y='Precio', hue=\"Temporada\");\n",
    "plt.title('Ventas por Temporada')\n",
    "plt.xlabel('Temporada')\n",
    "plt.ylabel('Ventas (en millones)')\n",
    "plt.xticks(rotation=45)\n",
    "plt.savefig(\"graficas/Ventas_restotemporadas.png\")"
   ]
  },
  {
   "cell_type": "markdown",
   "metadata": {},
   "source": [
    "Vemos la gráfica cabe a destacar en la temporada 17/18 no hubo ninguna gran venta, mayor ventas en 16/17 el club necesita dinero "
   ]
  },
  {
   "cell_type": "markdown",
   "metadata": {},
   "source": [
    "VAMOS A VER AHORA SI EL CLUB ESTA APOSTANDO POR UN PROYECTO DE CANTERO O DE CARTERA"
   ]
  },
  {
   "cell_type": "code",
   "execution_count": 592,
   "metadata": {},
   "outputs": [],
   "source": [
    "debutantes = pd.read_csv(\"DatasLimpios/debut_jovenes.csv\",index_col=None )\n",
    "debutantes = debutantes.drop(\"Unnamed: 0\", axis=1)"
   ]
  },
  {
   "cell_type": "code",
   "execution_count": 593,
   "metadata": {},
   "outputs": [
    {
     "data": {
      "text/html": [
       "<div>\n",
       "<style scoped>\n",
       "    .dataframe tbody tr th:only-of-type {\n",
       "        vertical-align: middle;\n",
       "    }\n",
       "\n",
       "    .dataframe tbody tr th {\n",
       "        vertical-align: top;\n",
       "    }\n",
       "\n",
       "    .dataframe thead th {\n",
       "        text-align: right;\n",
       "    }\n",
       "</style>\n",
       "<table border=\"1\" class=\"dataframe\">\n",
       "  <thead>\n",
       "    <tr style=\"text-align: right;\">\n",
       "      <th></th>\n",
       "      <th>Nombre</th>\n",
       "      <th>Edad debut</th>\n",
       "      <th>Nacionalidad</th>\n",
       "      <th>Fecha Primer equipo</th>\n",
       "    </tr>\n",
       "  </thead>\n",
       "  <tbody>\n",
       "    <tr>\n",
       "      <th>0</th>\n",
       "      <td>Carles Gil</td>\n",
       "      <td>21</td>\n",
       "      <td>España</td>\n",
       "      <td>2014-01-07</td>\n",
       "    </tr>\n",
       "    <tr>\n",
       "      <th>1</th>\n",
       "      <td>Toni Lato</td>\n",
       "      <td>19</td>\n",
       "      <td>España</td>\n",
       "      <td>2017-01-07</td>\n",
       "    </tr>\n",
       "    <tr>\n",
       "      <th>2</th>\n",
       "      <td>Juan Bernat</td>\n",
       "      <td>20</td>\n",
       "      <td>España</td>\n",
       "      <td>2013-01-07</td>\n",
       "    </tr>\n",
       "    <tr>\n",
       "      <th>3</th>\n",
       "      <td>José Gayà</td>\n",
       "      <td>19</td>\n",
       "      <td>España</td>\n",
       "      <td>2014-01-07</td>\n",
       "    </tr>\n",
       "    <tr>\n",
       "      <th>4</th>\n",
       "      <td>Kang-in Lee</td>\n",
       "      <td>17</td>\n",
       "      <td>Corea del Sur</td>\n",
       "      <td>2019-01-30</td>\n",
       "    </tr>\n",
       "    <tr>\n",
       "      <th>5</th>\n",
       "      <td>Álex Centelles</td>\n",
       "      <td>19</td>\n",
       "      <td>España</td>\n",
       "      <td>2019-01-07</td>\n",
       "    </tr>\n",
       "    <tr>\n",
       "      <th>6</th>\n",
       "      <td>Koba Koindredi</td>\n",
       "      <td>20</td>\n",
       "      <td>Francia</td>\n",
       "      <td>2022-01-31</td>\n",
       "    </tr>\n",
       "    <tr>\n",
       "      <th>7</th>\n",
       "      <td>Cristhian Mosquera</td>\n",
       "      <td>18</td>\n",
       "      <td>España</td>\n",
       "      <td>2023-01-01</td>\n",
       "    </tr>\n",
       "    <tr>\n",
       "      <th>8</th>\n",
       "      <td>Jesús Vázquez</td>\n",
       "      <td>18</td>\n",
       "      <td>España</td>\n",
       "      <td>2022-01-01</td>\n",
       "    </tr>\n",
       "    <tr>\n",
       "      <th>9</th>\n",
       "      <td>Carlos Soler</td>\n",
       "      <td>19</td>\n",
       "      <td>España</td>\n",
       "      <td>2017-01-01</td>\n",
       "    </tr>\n",
       "    <tr>\n",
       "      <th>10</th>\n",
       "      <td>Nacho Vidal</td>\n",
       "      <td>22</td>\n",
       "      <td>España</td>\n",
       "      <td>2017-01-07</td>\n",
       "    </tr>\n",
       "    <tr>\n",
       "      <th>11</th>\n",
       "      <td>Nacho Gil</td>\n",
       "      <td>21</td>\n",
       "      <td>España</td>\n",
       "      <td>2017-01-07</td>\n",
       "    </tr>\n",
       "    <tr>\n",
       "      <th>12</th>\n",
       "      <td>Fran Villalba</td>\n",
       "      <td>20</td>\n",
       "      <td>España</td>\n",
       "      <td>2018-01-07</td>\n",
       "    </tr>\n",
       "    <tr>\n",
       "      <th>13</th>\n",
       "      <td>Álex Blanco</td>\n",
       "      <td>20</td>\n",
       "      <td>España</td>\n",
       "      <td>2019-01-30</td>\n",
       "    </tr>\n",
       "    <tr>\n",
       "      <th>14</th>\n",
       "      <td>Javi Jiménez</td>\n",
       "      <td>23</td>\n",
       "      <td>España</td>\n",
       "      <td>2020-01-08</td>\n",
       "    </tr>\n",
       "    <tr>\n",
       "      <th>15</th>\n",
       "      <td>Cristian Rivero</td>\n",
       "      <td>22</td>\n",
       "      <td>España</td>\n",
       "      <td>2020-01-08</td>\n",
       "    </tr>\n",
       "    <tr>\n",
       "      <th>16</th>\n",
       "      <td>Hugo Guillamón</td>\n",
       "      <td>20</td>\n",
       "      <td>España</td>\n",
       "      <td>2020-01-07</td>\n",
       "    </tr>\n",
       "    <tr>\n",
       "      <th>17</th>\n",
       "      <td>Yunus Musah</td>\n",
       "      <td>17</td>\n",
       "      <td>Estados Unidos</td>\n",
       "      <td>2020-01-08</td>\n",
       "    </tr>\n",
       "    <tr>\n",
       "      <th>18</th>\n",
       "      <td>Jaume Doménech</td>\n",
       "      <td>24</td>\n",
       "      <td>España</td>\n",
       "      <td>2015-01-07</td>\n",
       "    </tr>\n",
       "    <tr>\n",
       "      <th>19</th>\n",
       "      <td>Fede Cartabia</td>\n",
       "      <td>20</td>\n",
       "      <td>Emiratos Árabes Unidos</td>\n",
       "      <td>2013-01-07</td>\n",
       "    </tr>\n",
       "    <tr>\n",
       "      <th>20</th>\n",
       "      <td>Rober Ibáñez</td>\n",
       "      <td>21</td>\n",
       "      <td>España</td>\n",
       "      <td>2014-01-07</td>\n",
       "    </tr>\n",
       "    <tr>\n",
       "      <th>21</th>\n",
       "      <td>Ferran Torres</td>\n",
       "      <td>17</td>\n",
       "      <td>España</td>\n",
       "      <td>2018-01-01</td>\n",
       "    </tr>\n",
       "  </tbody>\n",
       "</table>\n",
       "</div>"
      ],
      "text/plain": [
       "                Nombre  Edad debut            Nacionalidad Fecha Primer equipo\n",
       "0           Carles Gil          21                  España          2014-01-07\n",
       "1            Toni Lato          19                  España          2017-01-07\n",
       "2          Juan Bernat          20                  España          2013-01-07\n",
       "3            José Gayà          19                  España          2014-01-07\n",
       "4          Kang-in Lee          17           Corea del Sur          2019-01-30\n",
       "5       Álex Centelles          19                  España          2019-01-07\n",
       "6       Koba Koindredi          20                 Francia          2022-01-31\n",
       "7   Cristhian Mosquera          18                  España          2023-01-01\n",
       "8        Jesús Vázquez          18                  España          2022-01-01\n",
       "9         Carlos Soler          19                  España          2017-01-01\n",
       "10         Nacho Vidal          22                  España          2017-01-07\n",
       "11           Nacho Gil          21                  España          2017-01-07\n",
       "12       Fran Villalba          20                  España          2018-01-07\n",
       "13         Álex Blanco          20                  España          2019-01-30\n",
       "14        Javi Jiménez          23                  España          2020-01-08\n",
       "15     Cristian Rivero          22                  España          2020-01-08\n",
       "16      Hugo Guillamón          20                  España          2020-01-07\n",
       "17         Yunus Musah          17          Estados Unidos          2020-01-08\n",
       "18      Jaume Doménech          24                  España          2015-01-07\n",
       "19       Fede Cartabia          20  Emiratos Árabes Unidos          2013-01-07\n",
       "20        Rober Ibáñez          21                  España          2014-01-07\n",
       "21       Ferran Torres          17                  España          2018-01-01"
      ]
     },
     "execution_count": 593,
     "metadata": {},
     "output_type": "execute_result"
    }
   ],
   "source": [
    "debutantes.head(22)"
   ]
  },
  {
   "cell_type": "markdown",
   "metadata": {},
   "source": [
    "Ordenamos el dataframe por fecha para tener visualmente un orden"
   ]
  },
  {
   "cell_type": "code",
   "execution_count": 594,
   "metadata": {},
   "outputs": [],
   "source": [
    "debutantes = debutantes.sort_values(by=\"Fecha Primer equipo\", ascending=False)"
   ]
  },
  {
   "cell_type": "code",
   "execution_count": 595,
   "metadata": {},
   "outputs": [
    {
     "data": {
      "text/html": [
       "<div>\n",
       "<style scoped>\n",
       "    .dataframe tbody tr th:only-of-type {\n",
       "        vertical-align: middle;\n",
       "    }\n",
       "\n",
       "    .dataframe tbody tr th {\n",
       "        vertical-align: top;\n",
       "    }\n",
       "\n",
       "    .dataframe thead th {\n",
       "        text-align: right;\n",
       "    }\n",
       "</style>\n",
       "<table border=\"1\" class=\"dataframe\">\n",
       "  <thead>\n",
       "    <tr style=\"text-align: right;\">\n",
       "      <th></th>\n",
       "      <th>Nombre</th>\n",
       "      <th>Edad debut</th>\n",
       "      <th>Nacionalidad</th>\n",
       "      <th>Fecha Primer equipo</th>\n",
       "    </tr>\n",
       "  </thead>\n",
       "  <tbody>\n",
       "    <tr>\n",
       "      <th>7</th>\n",
       "      <td>Cristhian Mosquera</td>\n",
       "      <td>18</td>\n",
       "      <td>España</td>\n",
       "      <td>2023-01-01</td>\n",
       "    </tr>\n",
       "    <tr>\n",
       "      <th>6</th>\n",
       "      <td>Koba Koindredi</td>\n",
       "      <td>20</td>\n",
       "      <td>Francia</td>\n",
       "      <td>2022-01-31</td>\n",
       "    </tr>\n",
       "    <tr>\n",
       "      <th>8</th>\n",
       "      <td>Jesús Vázquez</td>\n",
       "      <td>18</td>\n",
       "      <td>España</td>\n",
       "      <td>2022-01-01</td>\n",
       "    </tr>\n",
       "    <tr>\n",
       "      <th>17</th>\n",
       "      <td>Yunus Musah</td>\n",
       "      <td>17</td>\n",
       "      <td>Estados Unidos</td>\n",
       "      <td>2020-01-08</td>\n",
       "    </tr>\n",
       "    <tr>\n",
       "      <th>15</th>\n",
       "      <td>Cristian Rivero</td>\n",
       "      <td>22</td>\n",
       "      <td>España</td>\n",
       "      <td>2020-01-08</td>\n",
       "    </tr>\n",
       "    <tr>\n",
       "      <th>14</th>\n",
       "      <td>Javi Jiménez</td>\n",
       "      <td>23</td>\n",
       "      <td>España</td>\n",
       "      <td>2020-01-08</td>\n",
       "    </tr>\n",
       "    <tr>\n",
       "      <th>16</th>\n",
       "      <td>Hugo Guillamón</td>\n",
       "      <td>20</td>\n",
       "      <td>España</td>\n",
       "      <td>2020-01-07</td>\n",
       "    </tr>\n",
       "    <tr>\n",
       "      <th>4</th>\n",
       "      <td>Kang-in Lee</td>\n",
       "      <td>17</td>\n",
       "      <td>Corea del Sur</td>\n",
       "      <td>2019-01-30</td>\n",
       "    </tr>\n",
       "    <tr>\n",
       "      <th>13</th>\n",
       "      <td>Álex Blanco</td>\n",
       "      <td>20</td>\n",
       "      <td>España</td>\n",
       "      <td>2019-01-30</td>\n",
       "    </tr>\n",
       "    <tr>\n",
       "      <th>5</th>\n",
       "      <td>Álex Centelles</td>\n",
       "      <td>19</td>\n",
       "      <td>España</td>\n",
       "      <td>2019-01-07</td>\n",
       "    </tr>\n",
       "    <tr>\n",
       "      <th>12</th>\n",
       "      <td>Fran Villalba</td>\n",
       "      <td>20</td>\n",
       "      <td>España</td>\n",
       "      <td>2018-01-07</td>\n",
       "    </tr>\n",
       "    <tr>\n",
       "      <th>21</th>\n",
       "      <td>Ferran Torres</td>\n",
       "      <td>17</td>\n",
       "      <td>España</td>\n",
       "      <td>2018-01-01</td>\n",
       "    </tr>\n",
       "    <tr>\n",
       "      <th>11</th>\n",
       "      <td>Nacho Gil</td>\n",
       "      <td>21</td>\n",
       "      <td>España</td>\n",
       "      <td>2017-01-07</td>\n",
       "    </tr>\n",
       "    <tr>\n",
       "      <th>1</th>\n",
       "      <td>Toni Lato</td>\n",
       "      <td>19</td>\n",
       "      <td>España</td>\n",
       "      <td>2017-01-07</td>\n",
       "    </tr>\n",
       "    <tr>\n",
       "      <th>10</th>\n",
       "      <td>Nacho Vidal</td>\n",
       "      <td>22</td>\n",
       "      <td>España</td>\n",
       "      <td>2017-01-07</td>\n",
       "    </tr>\n",
       "    <tr>\n",
       "      <th>9</th>\n",
       "      <td>Carlos Soler</td>\n",
       "      <td>19</td>\n",
       "      <td>España</td>\n",
       "      <td>2017-01-01</td>\n",
       "    </tr>\n",
       "    <tr>\n",
       "      <th>18</th>\n",
       "      <td>Jaume Doménech</td>\n",
       "      <td>24</td>\n",
       "      <td>España</td>\n",
       "      <td>2015-01-07</td>\n",
       "    </tr>\n",
       "    <tr>\n",
       "      <th>3</th>\n",
       "      <td>José Gayà</td>\n",
       "      <td>19</td>\n",
       "      <td>España</td>\n",
       "      <td>2014-01-07</td>\n",
       "    </tr>\n",
       "    <tr>\n",
       "      <th>20</th>\n",
       "      <td>Rober Ibáñez</td>\n",
       "      <td>21</td>\n",
       "      <td>España</td>\n",
       "      <td>2014-01-07</td>\n",
       "    </tr>\n",
       "    <tr>\n",
       "      <th>0</th>\n",
       "      <td>Carles Gil</td>\n",
       "      <td>21</td>\n",
       "      <td>España</td>\n",
       "      <td>2014-01-07</td>\n",
       "    </tr>\n",
       "    <tr>\n",
       "      <th>2</th>\n",
       "      <td>Juan Bernat</td>\n",
       "      <td>20</td>\n",
       "      <td>España</td>\n",
       "      <td>2013-01-07</td>\n",
       "    </tr>\n",
       "    <tr>\n",
       "      <th>19</th>\n",
       "      <td>Fede Cartabia</td>\n",
       "      <td>20</td>\n",
       "      <td>Emiratos Árabes Unidos</td>\n",
       "      <td>2013-01-07</td>\n",
       "    </tr>\n",
       "  </tbody>\n",
       "</table>\n",
       "</div>"
      ],
      "text/plain": [
       "                Nombre  Edad debut            Nacionalidad Fecha Primer equipo\n",
       "7   Cristhian Mosquera          18                  España          2023-01-01\n",
       "6       Koba Koindredi          20                 Francia          2022-01-31\n",
       "8        Jesús Vázquez          18                  España          2022-01-01\n",
       "17         Yunus Musah          17          Estados Unidos          2020-01-08\n",
       "15     Cristian Rivero          22                  España          2020-01-08\n",
       "14        Javi Jiménez          23                  España          2020-01-08\n",
       "16      Hugo Guillamón          20                  España          2020-01-07\n",
       "4          Kang-in Lee          17           Corea del Sur          2019-01-30\n",
       "13         Álex Blanco          20                  España          2019-01-30\n",
       "5       Álex Centelles          19                  España          2019-01-07\n",
       "12       Fran Villalba          20                  España          2018-01-07\n",
       "21       Ferran Torres          17                  España          2018-01-01\n",
       "11           Nacho Gil          21                  España          2017-01-07\n",
       "1            Toni Lato          19                  España          2017-01-07\n",
       "10         Nacho Vidal          22                  España          2017-01-07\n",
       "9         Carlos Soler          19                  España          2017-01-01\n",
       "18      Jaume Doménech          24                  España          2015-01-07\n",
       "3            José Gayà          19                  España          2014-01-07\n",
       "20        Rober Ibáñez          21                  España          2014-01-07\n",
       "0           Carles Gil          21                  España          2014-01-07\n",
       "2          Juan Bernat          20                  España          2013-01-07\n",
       "19       Fede Cartabia          20  Emiratos Árabes Unidos          2013-01-07"
      ]
     },
     "execution_count": 595,
     "metadata": {},
     "output_type": "execute_result"
    }
   ],
   "source": [
    "debutantes"
   ]
  },
  {
   "cell_type": "markdown",
   "metadata": {},
   "source": [
    "Aqui convertimos la fecha den datetime y extraemos solo el año del debut, para la hora de trabajar los datos y agrupar podamos\n",
    "hacerlo mejor"
   ]
  },
  {
   "cell_type": "code",
   "execution_count": 596,
   "metadata": {},
   "outputs": [],
   "source": [
    "debutantes[\"Fecha Primer equipo\"] = pd.to_datetime(debutantes[\"Fecha Primer equipo\"])\n",
    "debutantes[\"Fecha Primer equipo\"] = debutantes[\"Fecha Primer equipo\"].dt.year"
   ]
  },
  {
   "cell_type": "code",
   "execution_count": 597,
   "metadata": {},
   "outputs": [],
   "source": [
    "debutantes = debutantes[:-5]"
   ]
  },
  {
   "cell_type": "code",
   "execution_count": 598,
   "metadata": {},
   "outputs": [
    {
     "data": {
      "text/plain": [
       "Nombre                 10\n",
       "Edad debut             10\n",
       "Nacionalidad           10\n",
       "Fecha Primer equipo    10\n",
       "dtype: int64"
      ]
     },
     "execution_count": 598,
     "metadata": {},
     "output_type": "execute_result"
    }
   ],
   "source": [
    "debutantes_lim = debutantes[0:10]\n",
    "debutantes_lim.count()"
   ]
  },
  {
   "cell_type": "code",
   "execution_count": 599,
   "metadata": {},
   "outputs": [],
   "source": [
    "debutantes_resto = debutantes[10::]\n"
   ]
  },
  {
   "cell_type": "code",
   "execution_count": 600,
   "metadata": {},
   "outputs": [
    {
     "data": {
      "text/plain": [
       "Nombre                 7\n",
       "Edad debut             7\n",
       "Nacionalidad           7\n",
       "Fecha Primer equipo    7\n",
       "dtype: int64"
      ]
     },
     "execution_count": 600,
     "metadata": {},
     "output_type": "execute_result"
    }
   ],
   "source": [
    "debutantes_resto.count()"
   ]
  },
  {
   "cell_type": "code",
   "execution_count": 601,
   "metadata": {},
   "outputs": [],
   "source": [
    "debutantes_graf = debutantes.groupby('Fecha Primer equipo')['Nombre'].count().reset_index()"
   ]
  },
  {
   "cell_type": "code",
   "execution_count": 602,
   "metadata": {},
   "outputs": [
    {
     "name": "stderr",
     "output_type": "stream",
     "text": [
      "C:\\Users\\raul_\\AppData\\Local\\Temp\\ipykernel_14240\\2234303004.py:2: FutureWarning: \n",
      "\n",
      "Passing `palette` without assigning `hue` is deprecated and will be removed in v0.14.0. Assign the `x` variable to `hue` and set `legend=False` for the same effect.\n",
      "\n",
      "  sns.barplot(data=debutantes_graf, x='Fecha Primer equipo', y='Nombre', palette=\"rocket\", legend=False)\n"
     ]
    },
    {
     "data": {
      "image/png": "[encoded data removed]",
      "text/plain": [
       "<Figure size 1000x600 with 1 Axes>"
      ]
     },
     "metadata": {},
     "output_type": "display_data"
    }
   ],
   "source": [
    "plt.figure(figsize=(10, 6))\n",
    "sns.barplot(data=debutantes_graf, x='Fecha Primer equipo', y='Nombre', palette=\"rocket\", legend=False)\n",
    "plt.title('Debut jugadores de Cantera')\n",
    "plt.xlabel('Temporada')\n",
    "plt.ylabel('Cantidad de jugadores')\n",
    "plt.xticks(rotation=45);\n",
    "plt.savefig(\"graficas/DebutCantera.png\")\n"
   ]
  },
  {
   "cell_type": "code",
   "execution_count": null,
   "metadata": {},
   "outputs": [],
   "source": []
  },
  {
   "cell_type": "markdown",
   "metadata": {},
   "source": [
    "Vemos que Peter Lim en 4 años que esta han debutado 10 Jugadores y 4 años de su llegada en su mismo tiempo han debutado 7"
   ]
  },
  {
   "cell_type": "code",
   "execution_count": 603,
   "metadata": {},
   "outputs": [],
   "source": [
    "compras = pd.read_csv(\"DatasLimpios/mayorescompras.csv\",index_col=None )\n",
    "compras = compras.drop(\"Unnamed: 0\", axis=1)\n",
    "compras_temporada = compras.groupby('Temporada')['Precio'].sum().reset_index()"
   ]
  },
  {
   "cell_type": "code",
   "execution_count": 604,
   "metadata": {},
   "outputs": [
    {
     "data": {
      "text/html": [
       "<div>\n",
       "<style scoped>\n",
       "    .dataframe tbody tr th:only-of-type {\n",
       "        vertical-align: middle;\n",
       "    }\n",
       "\n",
       "    .dataframe tbody tr th {\n",
       "        vertical-align: top;\n",
       "    }\n",
       "\n",
       "    .dataframe thead th {\n",
       "        text-align: right;\n",
       "    }\n",
       "</style>\n",
       "<table border=\"1\" class=\"dataframe\">\n",
       "  <thead>\n",
       "    <tr style=\"text-align: right;\">\n",
       "      <th></th>\n",
       "      <th>Temporada</th>\n",
       "      <th>Precio</th>\n",
       "    </tr>\n",
       "  </thead>\n",
       "  <tbody>\n",
       "    <tr>\n",
       "      <th>0</th>\n",
       "      <td>05/06</td>\n",
       "      <td>27.0</td>\n",
       "    </tr>\n",
       "    <tr>\n",
       "      <th>1</th>\n",
       "      <td>06/07</td>\n",
       "      <td>34.0</td>\n",
       "    </tr>\n",
       "    <tr>\n",
       "      <th>2</th>\n",
       "      <td>07/08</td>\n",
       "      <td>15.0</td>\n",
       "    </tr>\n",
       "    <tr>\n",
       "      <th>3</th>\n",
       "      <td>09/10</td>\n",
       "      <td>14.0</td>\n",
       "    </tr>\n",
       "    <tr>\n",
       "      <th>4</th>\n",
       "      <td>11/12</td>\n",
       "      <td>24.0</td>\n",
       "    </tr>\n",
       "    <tr>\n",
       "      <th>5</th>\n",
       "      <td>12/13</td>\n",
       "      <td>10.5</td>\n",
       "    </tr>\n",
       "    <tr>\n",
       "      <th>6</th>\n",
       "      <td>14/15</td>\n",
       "      <td>35.0</td>\n",
       "    </tr>\n",
       "    <tr>\n",
       "      <th>7</th>\n",
       "      <td>15/16</td>\n",
       "      <td>38.0</td>\n",
       "    </tr>\n",
       "    <tr>\n",
       "      <th>8</th>\n",
       "      <td>16/17</td>\n",
       "      <td>36.0</td>\n",
       "    </tr>\n",
       "    <tr>\n",
       "      <th>9</th>\n",
       "      <td>17/18</td>\n",
       "      <td>40.0</td>\n",
       "    </tr>\n",
       "    <tr>\n",
       "      <th>10</th>\n",
       "      <td>18/19</td>\n",
       "      <td>120.0</td>\n",
       "    </tr>\n",
       "    <tr>\n",
       "      <th>11</th>\n",
       "      <td>19/20</td>\n",
       "      <td>58.0</td>\n",
       "    </tr>\n",
       "  </tbody>\n",
       "</table>\n",
       "</div>"
      ],
      "text/plain": [
       "   Temporada  Precio\n",
       "0      05/06    27.0\n",
       "1      06/07    34.0\n",
       "2      07/08    15.0\n",
       "3      09/10    14.0\n",
       "4      11/12    24.0\n",
       "5      12/13    10.5\n",
       "6      14/15    35.0\n",
       "7      15/16    38.0\n",
       "8      16/17    36.0\n",
       "9      17/18    40.0\n",
       "10     18/19   120.0\n",
       "11     19/20    58.0"
      ]
     },
     "execution_count": 604,
     "metadata": {},
     "output_type": "execute_result"
    }
   ],
   "source": [
    "compras_temporada"
   ]
  },
  {
   "cell_type": "code",
   "execution_count": 605,
   "metadata": {},
   "outputs": [
    {
     "data": {
      "image/png": "[encoded data removed]",
      "text/plain": [
       "<Figure size 1000x600 with 1 Axes>"
      ]
     },
     "metadata": {},
     "output_type": "display_data"
    }
   ],
   "source": [
    "plt.figure(figsize=(10, 6))\n",
    "sns.barplot(data=compras_temporada, x='Temporada', y='Precio', hue=\"Temporada\");\n",
    "plt.title('Fichajes importantes de los últimos años')\n",
    "plt.xlabel('Temporada')\n",
    "plt.ylabel('Compra (en millones)')\n",
    "plt.xticks(rotation=45)\n",
    "plt.grid(axis='y')\n",
    "plt.savefig(\"graficas/Fichajes.png\")"
   ]
  },
  {
   "cell_type": "markdown",
   "metadata": {},
   "source": [
    "VAMOS A VER EL HISTORICO CLASIFICATORIO"
   ]
  },
  {
   "cell_type": "code",
   "execution_count": 606,
   "metadata": {},
   "outputs": [],
   "source": [
    "clasificacion = pd.read_csv(\"DatasLimpios/historico_y_asistencia.csv\",index_col=None )\n",
    "clasificacion = clasificacion.drop(\"Unnamed: 0\", axis=1)\n",
    "clasificacion = clasificacion[0:15]"
   ]
  },
  {
   "cell_type": "code",
   "execution_count": 607,
   "metadata": {},
   "outputs": [
    {
     "data": {
      "image/png": "[encoded data removed]",
      "text/plain": [
       "<Figure size 2000x1000 with 1 Axes>"
      ]
     },
     "metadata": {},
     "output_type": "display_data"
    }
   ],
   "source": [
    "plt.figure(figsize=(20, 10))\n",
    "sns.lineplot(data=clasificacion, x='Temporada', y='Posicion', color='orange', marker=\"o\", markersize=12);\n",
    "plt.xticks(rotation=45)\n",
    "plt.gca().invert_xaxis();\n",
    "plt.gca().invert_yaxis()\n",
    "for i in range(len(clasificacion)):\n",
    "    plt.text(clasificacion['Temporada'].iloc[i], clasificacion['Posicion'].iloc[i] - 0.2, str(clasificacion['Posicion'].iloc[i]), ha='center')\n",
    "    \n",
    "plt.savefig(\"graficas/clasificacion.png\")"
   ]
  },
  {
   "cell_type": "code",
   "execution_count": 608,
   "metadata": {},
   "outputs": [
    {
     "data": {
      "text/html": [
       "<div>\n",
       "<style scoped>\n",
       "    .dataframe tbody tr th:only-of-type {\n",
       "        vertical-align: middle;\n",
       "    }\n",
       "\n",
       "    .dataframe tbody tr th {\n",
       "        vertical-align: top;\n",
       "    }\n",
       "\n",
       "    .dataframe thead th {\n",
       "        text-align: right;\n",
       "    }\n",
       "</style>\n",
       "<table border=\"1\" class=\"dataframe\">\n",
       "  <thead>\n",
       "    <tr style=\"text-align: right;\">\n",
       "      <th></th>\n",
       "      <th>Temporada</th>\n",
       "      <th>Equipo</th>\n",
       "      <th>País</th>\n",
       "      <th>Comp</th>\n",
       "      <th>PJ</th>\n",
       "      <th>PG</th>\n",
       "      <th>PE</th>\n",
       "      <th>PP</th>\n",
       "      <th>GF</th>\n",
       "      <th>GC</th>\n",
       "      <th>DG</th>\n",
       "      <th>Pts</th>\n",
       "      <th>Asistencia</th>\n",
       "      <th>Posicion</th>\n",
       "    </tr>\n",
       "  </thead>\n",
       "  <tbody>\n",
       "    <tr>\n",
       "      <th>0</th>\n",
       "      <td>2023-2024</td>\n",
       "      <td>Valencia</td>\n",
       "      <td>es ESP</td>\n",
       "      <td>1. La Liga</td>\n",
       "      <td>31</td>\n",
       "      <td>13</td>\n",
       "      <td>8</td>\n",
       "      <td>10</td>\n",
       "      <td>34</td>\n",
       "      <td>32</td>\n",
       "      <td>2</td>\n",
       "      <td>47</td>\n",
       "      <td>43679.0</td>\n",
       "      <td>7</td>\n",
       "    </tr>\n",
       "    <tr>\n",
       "      <th>1</th>\n",
       "      <td>2022-2023</td>\n",
       "      <td>Valencia</td>\n",
       "      <td>es ESP</td>\n",
       "      <td>1. La Liga</td>\n",
       "      <td>38</td>\n",
       "      <td>11</td>\n",
       "      <td>9</td>\n",
       "      <td>18</td>\n",
       "      <td>42</td>\n",
       "      <td>45</td>\n",
       "      <td>-3</td>\n",
       "      <td>42</td>\n",
       "      <td>40602.0</td>\n",
       "      <td>16</td>\n",
       "    </tr>\n",
       "    <tr>\n",
       "      <th>2</th>\n",
       "      <td>2021-2022</td>\n",
       "      <td>Valencia</td>\n",
       "      <td>es ESP</td>\n",
       "      <td>1. La Liga</td>\n",
       "      <td>38</td>\n",
       "      <td>11</td>\n",
       "      <td>15</td>\n",
       "      <td>12</td>\n",
       "      <td>48</td>\n",
       "      <td>53</td>\n",
       "      <td>-5</td>\n",
       "      <td>48</td>\n",
       "      <td>27349.0</td>\n",
       "      <td>9</td>\n",
       "    </tr>\n",
       "    <tr>\n",
       "      <th>3</th>\n",
       "      <td>2020-2021</td>\n",
       "      <td>Valencia</td>\n",
       "      <td>es ESP</td>\n",
       "      <td>1. La Liga</td>\n",
       "      <td>38</td>\n",
       "      <td>10</td>\n",
       "      <td>13</td>\n",
       "      <td>15</td>\n",
       "      <td>50</td>\n",
       "      <td>53</td>\n",
       "      <td>-3</td>\n",
       "      <td>43</td>\n",
       "      <td>142.0</td>\n",
       "      <td>13</td>\n",
       "    </tr>\n",
       "    <tr>\n",
       "      <th>4</th>\n",
       "      <td>2019-2020</td>\n",
       "      <td>Valencia</td>\n",
       "      <td>es ESP</td>\n",
       "      <td>1. La Liga</td>\n",
       "      <td>38</td>\n",
       "      <td>14</td>\n",
       "      <td>11</td>\n",
       "      <td>13</td>\n",
       "      <td>46</td>\n",
       "      <td>53</td>\n",
       "      <td>-7</td>\n",
       "      <td>53</td>\n",
       "      <td>29658.0</td>\n",
       "      <td>9</td>\n",
       "    </tr>\n",
       "    <tr>\n",
       "      <th>5</th>\n",
       "      <td>2018-2019</td>\n",
       "      <td>Valencia</td>\n",
       "      <td>es ESP</td>\n",
       "      <td>1. La Liga</td>\n",
       "      <td>38</td>\n",
       "      <td>15</td>\n",
       "      <td>16</td>\n",
       "      <td>7</td>\n",
       "      <td>51</td>\n",
       "      <td>35</td>\n",
       "      <td>16</td>\n",
       "      <td>61</td>\n",
       "      <td>39504.0</td>\n",
       "      <td>4</td>\n",
       "    </tr>\n",
       "    <tr>\n",
       "      <th>6</th>\n",
       "      <td>2017-2018</td>\n",
       "      <td>Valencia</td>\n",
       "      <td>es ESP</td>\n",
       "      <td>1. La Liga</td>\n",
       "      <td>38</td>\n",
       "      <td>22</td>\n",
       "      <td>7</td>\n",
       "      <td>9</td>\n",
       "      <td>65</td>\n",
       "      <td>38</td>\n",
       "      <td>27</td>\n",
       "      <td>73</td>\n",
       "      <td>38607.0</td>\n",
       "      <td>4</td>\n",
       "    </tr>\n",
       "    <tr>\n",
       "      <th>7</th>\n",
       "      <td>2016-2017</td>\n",
       "      <td>Valencia</td>\n",
       "      <td>es ESP</td>\n",
       "      <td>1. La Liga</td>\n",
       "      <td>38</td>\n",
       "      <td>13</td>\n",
       "      <td>7</td>\n",
       "      <td>18</td>\n",
       "      <td>56</td>\n",
       "      <td>65</td>\n",
       "      <td>-9</td>\n",
       "      <td>46</td>\n",
       "      <td>33866.0</td>\n",
       "      <td>12</td>\n",
       "    </tr>\n",
       "    <tr>\n",
       "      <th>8</th>\n",
       "      <td>2015-2016</td>\n",
       "      <td>Valencia</td>\n",
       "      <td>es ESP</td>\n",
       "      <td>1. La Liga</td>\n",
       "      <td>38</td>\n",
       "      <td>11</td>\n",
       "      <td>11</td>\n",
       "      <td>16</td>\n",
       "      <td>46</td>\n",
       "      <td>48</td>\n",
       "      <td>-2</td>\n",
       "      <td>44</td>\n",
       "      <td>37544.0</td>\n",
       "      <td>12</td>\n",
       "    </tr>\n",
       "    <tr>\n",
       "      <th>9</th>\n",
       "      <td>2014-2015</td>\n",
       "      <td>Valencia</td>\n",
       "      <td>es ESP</td>\n",
       "      <td>1. La Liga</td>\n",
       "      <td>38</td>\n",
       "      <td>22</td>\n",
       "      <td>11</td>\n",
       "      <td>5</td>\n",
       "      <td>70</td>\n",
       "      <td>32</td>\n",
       "      <td>38</td>\n",
       "      <td>77</td>\n",
       "      <td>44239.0</td>\n",
       "      <td>4</td>\n",
       "    </tr>\n",
       "    <tr>\n",
       "      <th>10</th>\n",
       "      <td>2013-2014</td>\n",
       "      <td>Valencia</td>\n",
       "      <td>es ESP</td>\n",
       "      <td>1. La Liga</td>\n",
       "      <td>38</td>\n",
       "      <td>13</td>\n",
       "      <td>10</td>\n",
       "      <td>15</td>\n",
       "      <td>51</td>\n",
       "      <td>53</td>\n",
       "      <td>-2</td>\n",
       "      <td>49</td>\n",
       "      <td>36435.0</td>\n",
       "      <td>8</td>\n",
       "    </tr>\n",
       "    <tr>\n",
       "      <th>11</th>\n",
       "      <td>2012-2013</td>\n",
       "      <td>Valencia</td>\n",
       "      <td>es ESP</td>\n",
       "      <td>1. La Liga</td>\n",
       "      <td>38</td>\n",
       "      <td>19</td>\n",
       "      <td>8</td>\n",
       "      <td>11</td>\n",
       "      <td>67</td>\n",
       "      <td>54</td>\n",
       "      <td>13</td>\n",
       "      <td>65</td>\n",
       "      <td>34658.0</td>\n",
       "      <td>5</td>\n",
       "    </tr>\n",
       "    <tr>\n",
       "      <th>12</th>\n",
       "      <td>2011-2012</td>\n",
       "      <td>Valencia</td>\n",
       "      <td>es ESP</td>\n",
       "      <td>1. La Liga</td>\n",
       "      <td>38</td>\n",
       "      <td>17</td>\n",
       "      <td>10</td>\n",
       "      <td>11</td>\n",
       "      <td>59</td>\n",
       "      <td>44</td>\n",
       "      <td>15</td>\n",
       "      <td>61</td>\n",
       "      <td>42116.0</td>\n",
       "      <td>3</td>\n",
       "    </tr>\n",
       "    <tr>\n",
       "      <th>13</th>\n",
       "      <td>2010-2011</td>\n",
       "      <td>Valencia</td>\n",
       "      <td>es ESP</td>\n",
       "      <td>1. La Liga</td>\n",
       "      <td>38</td>\n",
       "      <td>21</td>\n",
       "      <td>8</td>\n",
       "      <td>9</td>\n",
       "      <td>64</td>\n",
       "      <td>44</td>\n",
       "      <td>20</td>\n",
       "      <td>71</td>\n",
       "      <td>39963.0</td>\n",
       "      <td>3</td>\n",
       "    </tr>\n",
       "    <tr>\n",
       "      <th>14</th>\n",
       "      <td>2009-2010</td>\n",
       "      <td>Valencia</td>\n",
       "      <td>es ESP</td>\n",
       "      <td>1. La Liga</td>\n",
       "      <td>38</td>\n",
       "      <td>21</td>\n",
       "      <td>8</td>\n",
       "      <td>9</td>\n",
       "      <td>59</td>\n",
       "      <td>40</td>\n",
       "      <td>19</td>\n",
       "      <td>71</td>\n",
       "      <td>41221.0</td>\n",
       "      <td>3</td>\n",
       "    </tr>\n",
       "  </tbody>\n",
       "</table>\n",
       "</div>"
      ],
      "text/plain": [
       "    Temporada    Equipo    País        Comp  PJ  PG  PE  PP  GF  GC  DG  Pts  \\\n",
       "0   2023-2024  Valencia  es ESP  1. La Liga  31  13   8  10  34  32   2   47   \n",
       "1   2022-2023  Valencia  es ESP  1. La Liga  38  11   9  18  42  45  -3   42   \n",
       "2   2021-2022  Valencia  es ESP  1. La Liga  38  11  15  12  48  53  -5   48   \n",
       "3   2020-2021  Valencia  es ESP  1. La Liga  38  10  13  15  50  53  -3   43   \n",
       "4   2019-2020  Valencia  es ESP  1. La Liga  38  14  11  13  46  53  -7   53   \n",
       "5   2018-2019  Valencia  es ESP  1. La Liga  38  15  16   7  51  35  16   61   \n",
       "6   2017-2018  Valencia  es ESP  1. La Liga  38  22   7   9  65  38  27   73   \n",
       "7   2016-2017  Valencia  es ESP  1. La Liga  38  13   7  18  56  65  -9   46   \n",
       "8   2015-2016  Valencia  es ESP  1. La Liga  38  11  11  16  46  48  -2   44   \n",
       "9   2014-2015  Valencia  es ESP  1. La Liga  38  22  11   5  70  32  38   77   \n",
       "10  2013-2014  Valencia  es ESP  1. La Liga  38  13  10  15  51  53  -2   49   \n",
       "11  2012-2013  Valencia  es ESP  1. La Liga  38  19   8  11  67  54  13   65   \n",
       "12  2011-2012  Valencia  es ESP  1. La Liga  38  17  10  11  59  44  15   61   \n",
       "13  2010-2011  Valencia  es ESP  1. La Liga  38  21   8   9  64  44  20   71   \n",
       "14  2009-2010  Valencia  es ESP  1. La Liga  38  21   8   9  59  40  19   71   \n",
       "\n",
       "    Asistencia  Posicion  \n",
       "0      43679.0         7  \n",
       "1      40602.0        16  \n",
       "2      27349.0         9  \n",
       "3        142.0        13  \n",
       "4      29658.0         9  \n",
       "5      39504.0         4  \n",
       "6      38607.0         4  \n",
       "7      33866.0        12  \n",
       "8      37544.0        12  \n",
       "9      44239.0         4  \n",
       "10     36435.0         8  \n",
       "11     34658.0         5  \n",
       "12     42116.0         3  \n",
       "13     39963.0         3  \n",
       "14     41221.0         3  "
      ]
     },
     "execution_count": 608,
     "metadata": {},
     "output_type": "execute_result"
    }
   ],
   "source": [
    "clasificacion"
   ]
  },
  {
   "cell_type": "code",
   "execution_count": 609,
   "metadata": {},
   "outputs": [
    {
     "data": {
      "image/png": "[encoded data removed]",
      "text/plain": [
       "<Figure size 2000x1000 with 1 Axes>"
      ]
     },
     "metadata": {},
     "output_type": "display_data"
    }
   ],
   "source": [
    "plt.figure(figsize=(20, 10))\n",
    "sns.lineplot(data=clasificacion, x='Temporada', y='Asistencia', color='Red', marker=\"o\", markersize=12);\n",
    "plt.xticks(rotation=45)\n",
    "plt.gca().invert_xaxis();\n",
    "\n",
    "for i in range(len(clasificacion)):\n",
    "    plt.text(clasificacion['Temporada'].iloc[i], clasificacion['Asistencia'].iloc[i] + 1500, str(clasificacion['Asistencia'].iloc[i]), ha='center')\n",
    "    \n",
    "plt.savefig(\"graficas/asistencia.png\")"
   ]
  }
 ],
 "metadata": {
  "kernelspec": {
   "display_name": "Python 3",
   "language": "python",
   "name": "python3"
  },
  "language_info": {
   "codemirror_mode": {
    "name": "ipython",
    "version": 3
   },
   "file_extension": ".py",
   "mimetype": "text/x-python",
   "name": "python",
   "nbconvert_exporter": "python",
   "pygments_lexer": "ipython3",
   "version": "3.12.2"
  }
 },
 "nbformat": 4,
 "nbformat_minor": 2
}
